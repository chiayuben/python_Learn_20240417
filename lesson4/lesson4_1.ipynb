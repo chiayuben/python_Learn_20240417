{
 "cells": [
  {
   "cell_type": "code",
   "execution_count": 4,
   "metadata": {},
   "outputs": [
    {
     "name": "stdout",
     "output_type": "stream",
     "text": [
      "3\n",
      "3.1\n",
      "3.14\n"
     ]
    }
   ],
   "source": [
    "print(round(3.14159))\n",
    "print(round(3.14159,ndigits=1))\n",
    "print(round(3.1415926,ndigits=2))"
   ]
  },
  {
   "cell_type": "code",
   "execution_count": 6,
   "metadata": {},
   "outputs": [
    {
     "name": "stdout",
     "output_type": "stream",
     "text": [
      "4\n",
      "3\n"
     ]
    }
   ],
   "source": [
    "import math\n",
    "print(math.ceil(3.1415926))\n",
    "print(math.floor(3.1415926))"
   ]
  },
  {
   "cell_type": "code",
   "execution_count": 8,
   "metadata": {},
   "outputs": [
    {
     "name": "stdout",
     "output_type": "stream",
     "text": [
      "10\n"
     ]
    }
   ],
   "source": [
    "n=10\n",
    "n*5\n",
    "print(n)"
   ]
  },
  {
   "cell_type": "code",
   "execution_count": 9,
   "metadata": {},
   "outputs": [
    {
     "name": "stdout",
     "output_type": "stream",
     "text": [
      "50\n"
     ]
    }
   ],
   "source": [
    "n=10\n",
    "n=n*5\n",
    "print(n)"
   ]
  },
  {
   "cell_type": "code",
   "execution_count": 7,
   "metadata": {},
   "outputs": [
    {
     "name": "stdout",
     "output_type": "stream",
     "text": [
      "50\n"
     ]
    }
   ],
   "source": [
    "n=10\n",
    "n*=5\n",
    "print(n)\n"
   ]
  },
  {
   "cell_type": "markdown",
   "metadata": {},
   "source": [
    "## 請使用者輸入一個任意數，程式會顯示此樹的平方值及立方值"
   ]
  },
  {
   "cell_type": "code",
   "execution_count": 11,
   "metadata": {},
   "outputs": [
    {
     "name": "stdout",
     "output_type": "stream",
     "text": [
      "你輸入的數值是10,平方值是100\n",
      "您輸入的數值是10,立方值是1000\n"
     ]
    }
   ],
   "source": [
    "source_value=eval(input('請輸入任意數'))\n",
    "value=source_value\n",
    "value**=2\n",
    "print(f'你輸入的數值是{source_value},平方值是{value}')\n",
    "value = source_value\n",
    "value **= 3\n",
    "print(f\"您輸入的數值是{source_value},立方值是{value}\")"
   ]
  },
  {
   "cell_type": "code",
   "execution_count": 14,
   "metadata": {},
   "outputs": [
    {
     "name": "stdout",
     "output_type": "stream",
     "text": [
      "你輸入的數值是10,平方值是100\n",
      "您輸入的數值是10,立方值是1000\n"
     ]
    }
   ],
   "source": [
    "value=eval(input('請輸入任意數'))\n",
    "print(f'你輸入的數值是{value},平方值是{value**2}')\n",
    "print(f\"您輸入的數值是{value},立方值是{value ** 3}\")"
   ]
  },
  {
   "cell_type": "markdown",
   "metadata": {},
   "source": [
    "## 請設計程式，讓使用者輸入三個任意數，程式會顯示3數的總和(float)"
   ]
  },
  {
   "cell_type": "code",
   "execution_count": 20,
   "metadata": {},
   "outputs": [
    {
     "name": "stdout",
     "output_type": "stream",
     "text": [
      "輸入的數值分別為35.5,24.8,56.9三數總和是117.19999999999999\n",
      "35.5 + 24.8 + 56.9 = 117.2\n"
     ]
    }
   ],
   "source": [
    "n1=eval(input('請輸入第一個數'))\n",
    "n2=eval(input('請輸入第二個數'))\n",
    "n3=eval(input('請輸入第三個數'))\n",
    "total= n1+n2+n3\n",
    "print(f'輸入的數值分別為{n1},{n2},{n3}三數總和是{total}')\n",
    "print(f'{n1} + {n2} + {n3} = {round(total,ndigits=2)}')"
   ]
  },
  {
   "cell_type": "code",
   "execution_count": 15,
   "metadata": {},
   "outputs": [
    {
     "ename": "TypeError",
     "evalue": "'str' object is not callable",
     "output_type": "error",
     "traceback": [
      "\u001b[0;31m---------------------------------------------------------------------------\u001b[0m",
      "\u001b[0;31mTypeError\u001b[0m                                 Traceback (most recent call last)",
      "Cell \u001b[0;32mIn[15], line 4\u001b[0m\n\u001b[1;32m      2\u001b[0m n \u001b[38;5;241m=\u001b[39m \u001b[38;5;28meval\u001b[39m(\u001b[38;5;28minput\u001b[39m(\u001b[38;5;124m\"\u001b[39m\u001b[38;5;124m請輸入第一個數:\u001b[39m\u001b[38;5;124m\"\u001b[39m))\n\u001b[1;32m      3\u001b[0m total \u001b[38;5;241m+\u001b[39m\u001b[38;5;241m=\u001b[39m n\n\u001b[0;32m----> 4\u001b[0m \u001b[38;5;28;43mprint\u001b[39;49m\u001b[43m(\u001b[49m\u001b[38;5;124;43mf\u001b[39;49m\u001b[38;5;124;43m\"\u001b[39;49m\u001b[38;5;124;43m第一個數=\u001b[39;49m\u001b[38;5;132;43;01m{\u001b[39;49;00m\u001b[43mn\u001b[49m\u001b[38;5;132;43;01m}\u001b[39;49;00m\u001b[38;5;124;43m\"\u001b[39;49m\u001b[43m)\u001b[49m\n\u001b[1;32m      6\u001b[0m n \u001b[38;5;241m=\u001b[39m \u001b[38;5;28meval\u001b[39m(\u001b[38;5;28minput\u001b[39m(\u001b[38;5;124m\"\u001b[39m\u001b[38;5;124m請輸入第二個數:\u001b[39m\u001b[38;5;124m\"\u001b[39m))\n\u001b[1;32m      7\u001b[0m total \u001b[38;5;241m+\u001b[39m\u001b[38;5;241m=\u001b[39m n\n",
      "\u001b[0;31mTypeError\u001b[0m: 'str' object is not callable"
     ]
    }
   ],
   "source": [
    "total = 0\n",
    "n = eval(input(\"請輸入第一個數:\"))\n",
    "total += n\n",
    "print(f\"第一個數={n}\")\n",
    "\n",
    "n = eval(input(\"請輸入第二個數:\"))\n",
    "total += n\n",
    "print(f\"第二個數={n}\")\n",
    "\n",
    "n = eval(input(\"請輸入第三個數:\"))\n",
    "total += n\n",
    "print(f\"第三個數={n}\")\n",
    "\n",
    "print(f'總合是{round(total,ndigits=2)}')"
   ]
  },
  {
   "cell_type": "markdown",
   "metadata": {},
   "source": [
    "## 讓使用者輸入直角三角形的對邊\n",
    "## 讓使用者輸入直角三角形的斜邊\n",
    "## 計算角度 "
   ]
  },
  {
   "cell_type": "code",
   "execution_count": 1,
   "metadata": {},
   "outputs": [
    {
     "name": "stdout",
     "output_type": "stream",
     "text": [
      "角度為30.0\n"
     ]
    }
   ],
   "source": [
    "# sin=對邊 / 斜邊\n",
    "# x 是radian(弧度)\n",
    "import math\n",
    "oppo_side = eval(input('請輸入對邊'))\n",
    "hypo_side = eval(input('請輸入斜邊'))\n",
    "radian=math.asin(oppo_side/hypo_side)\n",
    "degree=round(math.degrees(radian),ndigits=2)\n",
    "print(f'角度為{degree}')"
   ]
  },
  {
   "cell_type": "markdown",
   "metadata": {},
   "source": [
    "## 讓使用者輸入梯形的上底、下底、高，程式會稽算梯形的面積(上底加下底乘以高除以2)"
   ]
  },
  {
   "cell_type": "code",
   "execution_count": 31,
   "metadata": {},
   "outputs": [
    {
     "name": "stdout",
     "output_type": "stream",
     "text": [
      "72.03164999999998\n",
      "梯形的上底是10.11cm,梯形的上底是15.12cm,梯形的高是5.71cm,計算後求得面積為72.0316平方公分。\n",
      "72.032\n",
      "梯形的上底是10.11cm,梯形的上底是15.12cm,梯形的高是5.71cm,計算後求得面積為72.0320平方公分。\n"
     ]
    }
   ],
   "source": [
    "up_side = eval(input('請輸入梯形的上底'))\n",
    "down_side = eval(input('請輸入梯形的下底'))\n",
    "high=eval(input('請輸入梯形的高'))\n",
    "area=((up_side+down_side)*high/2 )\n",
    "print(area)\n",
    "print(f'梯形的上底是{up_side}cm,梯形的上底是{down_side}cm,梯形的高是{high}cm,計算後求得面積為{area:.4f}平方公分。')\n",
    "area=round((up_side+down_side)*high/2,ndigits=3 )\n",
    "print(area)\n",
    "print(f'梯形的上底是{up_side}cm,梯形的上底是{down_side}cm,梯形的高是{high}cm,計算後求得面積為{area:.4f}平方公分。')\n",
    "\n",
    "# 在程式中有沒有放置round 對於計算結果會有些許差異"
   ]
  }
 ],
 "metadata": {
  "kernelspec": {
   "display_name": "Python 3",
   "language": "python",
   "name": "python3"
  },
  "language_info": {
   "codemirror_mode": {
    "name": "ipython",
    "version": 3
   },
   "file_extension": ".py",
   "mimetype": "text/x-python",
   "name": "python",
   "nbconvert_exporter": "python",
   "pygments_lexer": "ipython3",
   "version": "3.10.14"
  }
 },
 "nbformat": 4,
 "nbformat_minor": 2
}
