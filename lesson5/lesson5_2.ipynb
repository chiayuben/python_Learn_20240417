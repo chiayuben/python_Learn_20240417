{
 "cells": [
  {
   "cell_type": "code",
   "execution_count": 12,
   "metadata": {},
   "outputs": [
    {
     "name": "stdout",
     "output_type": "stream",
     "text": [
      "學生總分為272\n"
     ]
    }
   ],
   "source": [
    "try:\n",
    "    score:int|float=int(input('請輸入學生分數(最高300分)'))\n",
    "    if score<=300:\n",
    "        is_add:str=str.upper(input('(學生是否符合加分條件?(y/n)'))\n",
    "        if is_add=='Y':\n",
    "            score*=1.05\n",
    "            if score>300 :\n",
    "                score=300\n",
    "        print(f'學生總分為{round(score)}')\n",
    "    else:\n",
    "        print('請輸入正確分數(不可超過300分)')\n",
    "    #當輸入的分數超過300分時，系統會指示重新輸入且不可超過300分\n",
    "except Exception as e:\n",
    "    print(f'發生錯誤:{e}請從重新輸入')"
   ]
  },
  {
   "cell_type": "markdown",
   "metadata": {},
   "source": [
    "## 計算BMI"
   ]
  },
  {
   "cell_type": "code",
   "execution_count": null,
   "metadata": {},
   "outputs": [],
   "source": [
    "name=input('請輸入名字')\n",
    "weiht=input('請輸入重量')\n",
    "high=input('請輸入身高(公分)')"
   ]
  }
 ],
 "metadata": {
  "kernelspec": {
   "display_name": "Python 3",
   "language": "python",
   "name": "python3"
  },
  "language_info": {
   "codemirror_mode": {
    "name": "ipython",
    "version": 3
   },
   "file_extension": ".py",
   "mimetype": "text/x-python",
   "name": "python",
   "nbconvert_exporter": "python",
   "pygments_lexer": "ipython3",
   "version": "3.10.14"
  }
 },
 "nbformat": 4,
 "nbformat_minor": 2
}
