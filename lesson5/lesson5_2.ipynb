{
 "cells": [
  {
   "cell_type": "code",
   "execution_count": 12,
   "metadata": {},
   "outputs": [
    {
     "name": "stdout",
     "output_type": "stream",
     "text": [
      "學生總分為272\n"
     ]
    }
   ],
   "source": [
    "try:\n",
    "    score:int|float=int(input('請輸入學生分數(最高300分)'))\n",
    "    if score<=300:\n",
    "        is_add:str=str.upper(input('(學生是否符合加分條件?(y/n)'))\n",
    "        if is_add=='Y':\n",
    "            score*=1.05\n",
    "            if score>300 :\n",
    "                score=300\n",
    "        print(f'學生總分為{round(score)}')\n",
    "    else:\n",
    "        print('請輸入正確分數(不可超過300分)')\n",
    "    #當輸入的分數超過300分時，系統會指示重新輸入且不可超過300分\n",
    "except Exception as e:\n",
    "    print(f'發生錯誤:{e}請從重新輸入')"
   ]
  },
  {
   "cell_type": "markdown",
   "metadata": {},
   "source": [
    "## 計算BMI"
   ]
  },
  {
   "cell_type": "code",
   "execution_count": 18,
   "metadata": {},
   "outputs": [
    {
     "name": "stdout",
     "output_type": "stream",
     "text": [
      "你的名字是ben,體重為68.5,身高為169,經計算後BMI為24.0\n",
      "BMI很標準繼續保持\n"
     ]
    }
   ],
   "source": [
    "try:\n",
    "    name:str=input('請輸入名字')\n",
    "    weight:str|float=eval(input('請輸入重量(Kg)'))\n",
    "    high:str|float=eval(input('請輸入身高(公分)'))\n",
    "\n",
    "    BMI:str|float=weight/(high/100)**2\n",
    "    print(f'你的名字是{name},體重為{weight},身高為{high},經計算後BMI為{round(BMI,ndigits=1)}')\n",
    "    if BMI>=18.5:\n",
    "        if BMI>=24:\n",
    "            print('你的BMI偏高,可能要減肥了喔')\n",
    "        else:\n",
    "            print('BMI很標準繼續保持')\n",
    "    else:\n",
    "        if BMI <=18.5:\n",
    "            print('你的BMI值偏低,記得多吃點喔')\n",
    "except Exception as e :\n",
    "    print(f'發生錯誤{e}請重新輸入')  \n"
   ]
  },
  {
   "cell_type": "code",
   "execution_count": 19,
   "metadata": {},
   "outputs": [
    {
     "name": "stdout",
     "output_type": "stream",
     "text": [
      "發生錯誤name 'aa' is not defined請重新輸入\n"
     ]
    }
   ],
   "source": [
    "try:\n",
    "    name:str=input('請輸入名字')\n",
    "    weight:str|float=eval(input('請輸入重量(Kg)'))\n",
    "    high:str|float=eval(input('請輸入身高(公分)'))\n",
    "\n",
    "    BMI:str|float=weight/(high/100)**2\n",
    "    print(f'你的名字是{name},體重為{weight},身高為{high},經計算後BMI為{round(BMI,ndigits=1)}')\n",
    "    if BMI>=18.5:\n",
    "        if BMI>=24:\n",
    "            print('你的BMI偏高,可能要減肥了喔')\n",
    "        else:\n",
    "            print('BMI很標準繼續保持')\n",
    "    else:\n",
    "        if BMI <=18.5:\n",
    "            print('你的BMI值偏低,記得多吃點喔')\n",
    "except Exception as e :\n",
    "    print(f'發生錯誤{e}請重新輸入')  \n"
   ]
  }
 ],
 "metadata": {
  "kernelspec": {
   "display_name": "Python 3",
   "language": "python",
   "name": "python3"
  },
  "language_info": {
   "codemirror_mode": {
    "name": "ipython",
    "version": 3
   },
   "file_extension": ".py",
   "mimetype": "text/x-python",
   "name": "python",
   "nbconvert_exporter": "python",
   "pygments_lexer": "ipython3",
   "version": "3.10.14"
  }
 },
 "nbformat": 4,
 "nbformat_minor": 2
}
