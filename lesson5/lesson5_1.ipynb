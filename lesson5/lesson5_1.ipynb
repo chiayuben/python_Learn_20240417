{
 "cells": [
  {
   "cell_type": "code",
   "execution_count": 2,
   "metadata": {},
   "outputs": [
    {
     "name": "stdout",
     "output_type": "stream",
     "text": [
      "True\n",
      "False\n",
      "True\n",
      "True\n",
      "False\n"
     ]
    }
   ],
   "source": [
    "print(5>3)\n",
    "print(3>5)\n",
    "print(5>=5)\n",
    "print(5==5)\n",
    "print(5!=5)"
   ]
  },
  {
   "cell_type": "markdown",
   "metadata": {},
   "source": [
    "## 單向選擇"
   ]
  },
  {
   "cell_type": "code",
   "execution_count": 9,
   "metadata": {},
   "outputs": [
    {
     "name": "stdout",
     "output_type": "stream",
     "text": [
      "此人大於18歲\n",
      "可以考駕照\n",
      "有投票權\n",
      "訪問結束\n",
      "此人大於18歲\n",
      "可以考駕照\n",
      "有投票權\n",
      "訪問結束\n"
     ]
    }
   ],
   "source": [
    "age:int=18\n",
    "if age>=18:\n",
    "    print('此人大於18歲')\n",
    "    print('可以考駕照')\n",
    "    print('有投票權')\n",
    "print('訪問結束')\n",
    "\n",
    "age:int=eval(input('請問你幾歲'))\n",
    "if age>=18:\n",
    "    print('此人大於18歲')\n",
    "    print('可以考駕照')\n",
    "    print('有投票權')\n",
    "print('訪問結束')"
   ]
  },
  {
   "cell_type": "markdown",
   "metadata": {},
   "source": [
    "- 請輸入學生的分數，總分為300分\n",
    "- 由你決定學生可否加5%"
   ]
  },
  {
   "cell_type": "code",
   "execution_count": 30,
   "metadata": {},
   "outputs": [
    {
     "name": "stdout",
     "output_type": "stream",
     "text": [
      "學生總分為262\n"
     ]
    }
   ],
   "source": [
    "score:int|float=int(input('請輸入學生分數(最高300分)'))\n",
    "is_add:str=str.upper(input('(學生是否符合加分條件?(y/n)'))\n",
    "if is_add=='Y':\n",
    "    score*=1.05\n",
    "print(f'學生總分為{round(score)}')\n",
    "## 超過300分無法判斷出來"
   ]
  },
  {
   "cell_type": "code",
   "execution_count": 33,
   "metadata": {},
   "outputs": [
    {
     "name": "stdout",
     "output_type": "stream",
     "text": [
      "學生總分為310\n"
     ]
    }
   ],
   "source": [
    "score:int|float=int(input('請輸入學生分數(最高300分)'))\n",
    "is_add:str=str.upper(input('(學生是否符合加分條件?(y/n)'))\n",
    "if is_add=='Y':\n",
    "    score*=1.05\n",
    "    if score>300 :\n",
    "        score=300\n",
    "print(f'學生總分為{round(score)}')\n",
    "#剛開始輸入錯誤無法判斷"
   ]
  },
  {
   "cell_type": "markdown",
   "metadata": {},
   "source": [
    "- 輸入學生分數，總分為300分\n",
    "- 檢查學生輸入的分數,是否大於300分\n",
    "- 由您決定學生可不可以加5%\n",
    "- 超過300分,以300分計算"
   ]
  },
  {
   "cell_type": "code",
   "execution_count": 35,
   "metadata": {},
   "outputs": [
    {
     "name": "stdout",
     "output_type": "stream",
     "text": [
      "學生總分為300\n"
     ]
    }
   ],
   "source": [
    "score:int|float=int(input('請輸入學生分數(最高300分)'))\n",
    "if score<=300:\n",
    "    is_add:str=str.upper(input('(學生是否符合加分條件?(y/n)'))\n",
    "    if is_add=='Y':\n",
    "        score*=1.05\n",
    "        if score>300 :\n",
    "            score=300\n",
    "    print(f'學生總分為{round(score)}')\n",
    "else:\n",
    "    print('請輸入正確分數(不可超過300分)')\n",
    "#當輸入的分數超過300分時，系統會指示重新輸入且不可超過300分"
   ]
  },
  {
   "cell_type": "markdown",
   "metadata": {},
   "source": [
    "- 程式raise exception\n",
    "-try....except優雅的失敗 哈哈"
   ]
  },
  {
   "cell_type": "code",
   "execution_count": 38,
   "metadata": {},
   "outputs": [
    {
     "name": "stdout",
     "output_type": "stream",
     "text": [
      "輸入格式有誤\n",
      "程式結束\n"
     ]
    }
   ],
   "source": [
    "try:\n",
    "    money:int=int(input('請輸入金額:'))\n",
    "    print(money)\n",
    "except ValueError:#只有處理Value Error的錯誤\n",
    "    print('輸入格式有誤')\n",
    "print('程式結束')"
   ]
  },
  {
   "cell_type": "code",
   "execution_count": 41,
   "metadata": {},
   "outputs": [
    {
     "name": "stdout",
     "output_type": "stream",
     "text": [
      "輸入格式有誤\n",
      "程式結束\n"
     ]
    }
   ],
   "source": [
    "try:\n",
    "    money:int=int(input('請輸入金額:'))\n",
    "    print(money)\n",
    "except Exception: #處理任何錯誤\n",
    "    print('輸入格式有誤')\n",
    "print('程式結束')"
   ]
  },
  {
   "cell_type": "code",
   "execution_count": 42,
   "metadata": {},
   "outputs": [
    {
     "name": "stdout",
     "output_type": "stream",
     "text": [
      "輸入格式有誤invalid literal for int() with base 10: '12a'\n",
      "程式結束\n"
     ]
    }
   ],
   "source": [
    "try:\n",
    "    money:int=int(input('請輸入金額:'))\n",
    "    print(money)\n",
    "except Exception as e: #處理任何的錯誤,輸出錯誤的內容\n",
    "    print(f'輸入格式有誤{e}')\n",
    "print('程式結束')"
   ]
  }
 ],
 "metadata": {
  "kernelspec": {
   "display_name": "Python 3",
   "language": "python",
   "name": "python3"
  },
  "language_info": {
   "codemirror_mode": {
    "name": "ipython",
    "version": 3
   },
   "file_extension": ".py",
   "mimetype": "text/x-python",
   "name": "python",
   "nbconvert_exporter": "python",
   "pygments_lexer": "ipython3",
   "version": "3.10.14"
  }
 },
 "nbformat": 4,
 "nbformat_minor": 2
}
