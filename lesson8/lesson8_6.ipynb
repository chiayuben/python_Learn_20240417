{
 "cells": [
  {
   "cell_type": "code",
   "execution_count": 1,
   "metadata": {},
   "outputs": [],
   "source": [
    "def menu (wine:str,entree:str,dessert:str)->None:\n",
    "    print(f'主餐:{entree}')\n",
    "    print(f'酒類:{wine}')\n",
    "    print(f'甜點:{dessert}')"
   ]
  },
  {
   "cell_type": "code",
   "execution_count": 2,
   "metadata": {},
   "outputs": [
    {
     "name": "stdout",
     "output_type": "stream",
     "text": [
      "主餐:牛排\n",
      "酒類白酒\n",
      "甜點:果汁\n",
      "主餐:牛排\n",
      "酒類紅酒\n",
      "甜點:冰淇淋\n"
     ]
    }
   ],
   "source": [
    "#引數值得呼叫,必須依據順序。\n",
    "menu('白酒','牛排','果汁')\n",
    "menu('紅酒','牛排','冰淇淋')"
   ]
  },
  {
   "cell_type": "code",
   "execution_count": 3,
   "metadata": {},
   "outputs": [
    {
     "name": "stdout",
     "output_type": "stream",
     "text": [
      "主餐:牛排\n",
      "酒類:白酒\n",
      "甜點:蛋糕\n",
      "===========\n",
      "主餐:牛排\n",
      "酒類:白酒\n",
      "甜點:蛋糕\n"
     ]
    }
   ],
   "source": [
    "def menu (wine:str,entree:str,dessert:str)->None:\n",
    "    print(f'主餐:{entree}')\n",
    "    print(f'酒類:{wine}')\n",
    "    print(f'甜點:{dessert}')\n",
    "\n",
    "#引數名稱的呼叫可以不依照順序\n",
    "menu(wine='白酒',entree='牛排',dessert='蛋糕')\n",
    "print(\"===========\")\n",
    "menu(entree='牛排',dessert='蛋糕',wine='白酒')"
   ]
  },
  {
   "cell_type": "code",
   "execution_count": 24,
   "metadata": {},
   "outputs": [
    {
     "name": "stdout",
     "output_type": "stream",
     "text": [
      "主餐:牛排\n",
      "酒類:白酒\n",
      "甜點:蛋糕\n",
      "==============\n",
      "主餐:牛排\n",
      "酒類:白酒\n",
      "甜點:蛋糕\n",
      "==============\n",
      "主餐:白酒\n",
      "酒類:牛排\n",
      "甜點:蛋糕\n",
      "==============\n"
     ]
    }
   ],
   "source": [
    "def menu (wine:str,entree:str,dessert:str)->None:\n",
    "    print(f'主餐:{entree}')\n",
    "    print(f'酒類:{wine}')\n",
    "    print(f'甜點:{dessert}')\n",
    "#混和呼叫\n",
    "#引數直呼叫+引數名稱的呼叫\n",
    "#引數值的呼叫要依順序，引數名稱的呼叫可不依順序。\n",
    "menu('白酒',dessert='蛋糕',entree='牛排')\n",
    "print(\"==============\")\n",
    "menu('白酒','牛排',dessert='蛋糕')#引數直的呼叫有依照順序\n",
    "print(\"==============\")\n",
    "menu('牛排','白酒',dessert='蛋糕')#引數直的呼叫沒有依照順序(輸出的資料有誤)\n",
    "print(\"==============\")\n"
   ]
  },
  {
   "cell_type": "code",
   "execution_count": 11,
   "metadata": {},
   "outputs": [
    {
     "name": "stdout",
     "output_type": "stream",
     "text": [
      "主餐:雞排\n",
      "酒類:紅酒\n",
      "甜點:奶昔\n",
      "==========\n",
      "主餐:雞排\n",
      "酒類:紅酒\n",
      "甜點:奶昔\n",
      "==============\n",
      "主餐:雞排\n",
      "酒類:紅酒\n",
      "甜點:蛋糕\n",
      "==============\n",
      "主餐:紅酒\n",
      "酒類:雞排\n",
      "甜點:蛋糕\n"
     ]
    }
   ],
   "source": [
    "#參數如果有Default value\n",
    "#參數如果有Default value,一定要定義在最後面。\n",
    "\n",
    "def menu (wine:str,entree:str,dessert:str='奶昔')->None:\n",
    "    print(f'主餐:{entree}')\n",
    "    print(f'酒類:{wine}')\n",
    "    print(f'甜點:{dessert}')\n",
    "\n",
    "#引數值呼叫\n",
    "menu('紅酒','雞排')\n",
    "print(\"==========\")\n",
    "#引數名稱呼叫\n",
    "menu(entree='雞排',wine='紅酒')\n",
    "print(\"==============\")\n",
    "#混合呼叫\n",
    "menu('紅酒','雞排',dessert='蛋糕')\n",
    "print(\"==============\")\n",
    "menu('雞排','紅酒',dessert='蛋糕')\n",
    "\n",
    "#menu,呼叫時最少需要2個引數"
   ]
  },
  {
   "cell_type": "code",
   "execution_count": 18,
   "metadata": {},
   "outputs": [
    {
     "name": "stdout",
     "output_type": "stream",
     "text": [
      "()\n",
      "=========\n",
      "('雞排',)\n",
      "=========\n",
      "('雞排', '紅酒')\n",
      "==========\n",
      "('雞排', '紅酒', '奶昔')\n"
     ]
    }
   ],
   "source": [
    "#沒有限定數量的引數值呼叫\n",
    "def menu(*kind:str)->None:\n",
    "    print(kind)\n",
    "\n",
    "menu()\n",
    "print(\"=========\")\n",
    "menu('雞排')\n",
    "print(\"=========\")\n",
    "menu('雞排','紅酒')\n",
    "print(\"==========\")\n",
    "menu('雞排','紅酒','奶昔')"
   ]
  },
  {
   "cell_type": "code",
   "execution_count": 19,
   "metadata": {},
   "outputs": [
    {
     "name": "stdout",
     "output_type": "stream",
     "text": [
      "{}\n",
      "=========\n",
      "{'entree': '雞排'}\n",
      "=========\n",
      "{'entree': '雞排', 'wine': '紅酒'}\n",
      "==========\n",
      "{'entree': '雞排', 'wind': '紅酒', 'dessert': '奶昔'}\n"
     ]
    }
   ],
   "source": [
    "#沒有限定數量的引數名稱呼叫\n",
    "def menu(**kind:str)->None:\n",
    "    print(kind)\n",
    "\n",
    "menu()\n",
    "print(\"=========\")\n",
    "menu(entree='雞排')\n",
    "print(\"=========\")\n",
    "menu(entree='雞排',wine='紅酒')\n",
    "print(\"==========\")\n",
    "menu(entree='雞排',wind='紅酒',dessert='奶昔')"
   ]
  },
  {
   "cell_type": "code",
   "execution_count": 20,
   "metadata": {},
   "outputs": [
    {
     "name": "stdout",
     "output_type": "stream",
     "text": [
      "(1, 2, 3, 5, 4)\n",
      "{'one': 1, 'two': 2, 'three': 3}\n"
     ]
    }
   ],
   "source": [
    "def menu(*args:str,**kwargs:str)->None:\n",
    "    print(args)\n",
    "    print(kwargs)\n",
    "\n",
    "menu(1,2,3,5,4,one=1,two=2,three=3)"
   ]
  },
  {
   "cell_type": "code",
   "execution_count": null,
   "metadata": {},
   "outputs": [],
   "source": [
    "try:\n",
    "    name = input('請輸入姓名:')\n",
    "    high = float(input('請輸入身高(120~230)(cm):')) \n",
    "    if high<120 or high>230:\n",
    "        raise Exception(\"身高必需大於120同時小於230\")    \n",
    "    weight = float(input('請輸入體重(40~170)(kg):'))\n",
    "    if weight<40 or weight>170:\n",
    "        raise Exception(\"體重必需大於40同時小於170\")\n",
    "    bmi = weight / (height / 100) ** 2\n",
    "    print(f'你的名字是{name},體重為{weight},身高為{high},經計算後BMI為{round(bmi,ndigits=1)}')\n",
    "    if bmi<18.5 :\n",
    "        print('體重過輕')\n",
    "    elif bmi>=18.5 and bmi<24:\n",
    "        print('BMI正常')\n",
    "    elif bmi>=24 and bmi<27:\n",
    "        print('過重')\n",
    "    elif bmi<=27 and bmi<30:\n",
    "        print('輕度肥胖')\n",
    "    elif bmi<=30 and bmi<35:\n",
    "        print('中度肥胖')\n",
    "    else:\n",
    "        print('重度肥胖')\n",
    "    #您的體重:正常\n",
    "except Exception as e:\n",
    "    print(f'錯誤: {e}')"
   ]
  },
  {
   "cell_type": "code",
   "execution_count": 4,
   "metadata": {},
   "outputs": [
    {
     "name": "stdout",
     "output_type": "stream",
     "text": [
      "請輸入身高(120~230)(cm): Number must be at minimum 120.\n",
      "請輸入身高(120~230)(cm): 請輸入體重(40~170)(kg): \n",
      "ben, 您的BMI: 47.34\n",
      "您的體重: 重度肥胖\n"
     ]
    }
   ],
   "source": [
    "import pyinputplus as pyip\n",
    "\n",
    "def calc_bmi(height: float, weight: float) -> float:\n",
    "    return weight / (height / 100) ** 2\n",
    "\n",
    "def get_status(bmi: float) -> str:\n",
    "    if bmi < 18.5:\n",
    "        result = '過輕'\n",
    "    elif bmi < 24:\n",
    "        result = '正常'\n",
    "    elif bmi < 27:\n",
    "        result = '過重'\n",
    "    elif bmi < 30:\n",
    "        result = '輕度肥胖'\n",
    "    elif bmi < 35:\n",
    "        result = '中度肥胖'\n",
    "    else:\n",
    "        result = '重度肥胖'\n",
    "    return result\n",
    "\n",
    "name = input('請輸入姓名: ')\n",
    "height = pyip.inputFloat('請輸入身高(120~230)(cm): ', min=120, max=230)\n",
    "weight = pyip.inputFloat('請輸入體重(40~170)(kg): ', min=40, max=170)\n",
    "\n",
    "bmi = calc_bmi(height, weight)\n",
    "status = get_status(bmi)\n",
    "\n",
    "print(f'\\n{name}, 您的BMI: {bmi:.2f}')\n",
    "print(f'您的體重: {status}')"
   ]
  },
  {
   "cell_type": "code",
   "execution_count": 3,
   "metadata": {},
   "outputs": [
    {
     "name": "stdout",
     "output_type": "stream",
     "text": [
      "請輸入身高(50~230cm)180.0\n",
      "請輸入體重(30~250Kg)70.0\n",
      "你的身高為180.0,體重為70.0,你的BMI為21.60,你的狀態為:BMI正常\n",
      "還要下一位量測嗎?(y,n)\n",
      "Blank values are not allowed.\n",
      "還要下一位量測嗎?(y,n)\n",
      "量測結束\n",
      "\n"
     ]
    }
   ],
   "source": [
    "import pyinputplus as pyip\n",
    "\n",
    "def bmi (high:float,weight:float)->float:\n",
    "    return float(weight / (high / 100) ** 2)\n",
    "def status(bmi: float|int) -> str:\n",
    "    if bmi<18.5 :\n",
    "        result='體重過輕'\n",
    "    elif bmi>=18.5 and bmi<24:\n",
    "        result='BMI正常'\n",
    "    elif bmi>=24 and bmi<27:\n",
    "        result='過重'\n",
    "    elif bmi<=27 and bmi<30:\n",
    "        result='輕度肥胖'\n",
    "    elif bmi<=30 and bmi<35:\n",
    "        result='中度肥胖'\n",
    "    else:\n",
    "       result='重度肥胖'\n",
    "    return result\n",
    "\n",
    "\n",
    "def BMT_count():\n",
    "    name = input('請輸入姓名:')\n",
    "    high = pyip.inputFloat('請輸入身高(50~230cm)',min=50,max=230)\n",
    "    print(high)\n",
    "    weight=pyip.inputFloat('請輸入體重(30~250Kg)',min=30,max=250)\n",
    "    print(weight)\n",
    "    BMI=bmi(high,weight)\n",
    "    status(BMI)\n",
    "    print(f'你的身高為{high},體重為{weight},你的BMI為{BMI:.2f},你的狀態為:{status(BMI)}')\n",
    "\n",
    "while True:\n",
    "    BMT_count()\n",
    "    play_again=pyip.inputYesNo('還要下一位量測嗎?(y,n)\\n')\n",
    "    if play_again=='no':\n",
    "        break\n",
    "print('量測結束\\n')    \n"
   ]
  },
  {
   "cell_type": "code",
   "execution_count": 9,
   "metadata": {},
   "outputs": [
    {
     "data": {
      "text/plain": [
       "21.604938271604937"
      ]
     },
     "execution_count": 9,
     "metadata": {},
     "output_type": "execute_result"
    }
   ],
   "source": [
    "def bmi (high:int|float,weught:int|float)->int|float:\n",
    "    return float(weight / (high / 100) ** 2)\n",
    "bmi(180,70)"
   ]
  },
  {
   "cell_type": "code",
   "execution_count": 4,
   "metadata": {},
   "outputs": [
    {
     "name": "stdout",
     "output_type": "stream",
     "text": [
      "BMI正常\n",
      "<built-in function print>\n"
     ]
    }
   ],
   "source": [
    "def bmi (high:int|float,weight:int|float)->int|float:\n",
    "    return float(weight / (high / 100) ** 2)\n",
    "def status(bmi: float|int) -> str:\n",
    "    if bmi<18.5 :\n",
    "        print('體重過輕')\n",
    "    elif bmi>=18.5 and bmi<24:\n",
    "        print('BMI正常')\n",
    "    elif bmi>=24 and bmi<27:\n",
    "        print('過重')\n",
    "    elif bmi<=27 and bmi<30:\n",
    "        print('輕度肥胖')\n",
    "    elif bmi<=30 and bmi<35:\n",
    "        print('中度肥胖')\n",
    "    else:\n",
    "        print('重度肥胖')\n",
    "    return print\n",
    "BMI=bmi(180,70)\n",
    "get_status=status(BMI)\n",
    "print(get_status)\n",
    "\n"
   ]
  }
 ],
 "metadata": {
  "kernelspec": {
   "display_name": "Python 3",
   "language": "python",
   "name": "python3"
  },
  "language_info": {
   "codemirror_mode": {
    "name": "ipython",
    "version": 3
   },
   "file_extension": ".py",
   "mimetype": "text/x-python",
   "name": "python",
   "nbconvert_exporter": "python",
   "pygments_lexer": "ipython3",
   "version": "3.10.14"
  }
 },
 "nbformat": 4,
 "nbformat_minor": 2
}
