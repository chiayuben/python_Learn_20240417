{
 "cells": [
  {
   "cell_type": "code",
   "execution_count": 1,
   "metadata": {},
   "outputs": [],
   "source": [
    "def menu (wine:str,entree:str,dessert:str)->None:\n",
    "    print(f'主餐:{entree}')\n",
    "    print(f'酒類:{wine}')\n",
    "    print(f'甜點:{dessert}')"
   ]
  },
  {
   "cell_type": "code",
   "execution_count": 2,
   "metadata": {},
   "outputs": [
    {
     "name": "stdout",
     "output_type": "stream",
     "text": [
      "主餐:牛排\n",
      "酒類白酒\n",
      "甜點:果汁\n",
      "主餐:牛排\n",
      "酒類紅酒\n",
      "甜點:冰淇淋\n"
     ]
    }
   ],
   "source": [
    "#引數值得呼叫,必須依據順序。\n",
    "menu('白酒','牛排','果汁')\n",
    "menu('紅酒','牛排','冰淇淋')"
   ]
  },
  {
   "cell_type": "code",
   "execution_count": 3,
   "metadata": {},
   "outputs": [
    {
     "name": "stdout",
     "output_type": "stream",
     "text": [
      "主餐:牛排\n",
      "酒類:白酒\n",
      "甜點:蛋糕\n",
      "===========\n",
      "主餐:牛排\n",
      "酒類:白酒\n",
      "甜點:蛋糕\n"
     ]
    }
   ],
   "source": [
    "def menu (wine:str,entree:str,dessert:str)->None:\n",
    "    print(f'主餐:{entree}')\n",
    "    print(f'酒類:{wine}')\n",
    "    print(f'甜點:{dessert}')\n",
    "\n",
    "#引數名稱的呼叫可以不依照順序\n",
    "menu(wine='白酒',entree='牛排',dessert='蛋糕')\n",
    "print(\"===========\")\n",
    "menu(entree='牛排',dessert='蛋糕',wine='白酒')"
   ]
  },
  {
   "cell_type": "code",
   "execution_count": 24,
   "metadata": {},
   "outputs": [
    {
     "name": "stdout",
     "output_type": "stream",
     "text": [
      "主餐:牛排\n",
      "酒類:白酒\n",
      "甜點:蛋糕\n",
      "==============\n",
      "主餐:牛排\n",
      "酒類:白酒\n",
      "甜點:蛋糕\n",
      "==============\n",
      "主餐:白酒\n",
      "酒類:牛排\n",
      "甜點:蛋糕\n",
      "==============\n"
     ]
    }
   ],
   "source": [
    "def menu (wine:str,entree:str,dessert:str)->None:\n",
    "    print(f'主餐:{entree}')\n",
    "    print(f'酒類:{wine}')\n",
    "    print(f'甜點:{dessert}')\n",
    "#混和呼叫\n",
    "#引數直呼叫+引數名稱的呼叫\n",
    "#引數值的呼叫要依順序，引數名稱的呼叫可不依順序。\n",
    "menu('白酒',dessert='蛋糕',entree='牛排')\n",
    "print(\"==============\")\n",
    "menu('白酒','牛排',dessert='蛋糕')#引數直的呼叫有依照順序\n",
    "print(\"==============\")\n",
    "menu('牛排','白酒',dessert='蛋糕')#引數直的呼叫沒有依照順序(輸出的資料有誤)\n",
    "print(\"==============\")\n"
   ]
  },
  {
   "cell_type": "code",
   "execution_count": 11,
   "metadata": {},
   "outputs": [
    {
     "name": "stdout",
     "output_type": "stream",
     "text": [
      "主餐:雞排\n",
      "酒類:紅酒\n",
      "甜點:奶昔\n",
      "==========\n",
      "主餐:雞排\n",
      "酒類:紅酒\n",
      "甜點:奶昔\n",
      "==============\n",
      "主餐:雞排\n",
      "酒類:紅酒\n",
      "甜點:蛋糕\n",
      "==============\n",
      "主餐:紅酒\n",
      "酒類:雞排\n",
      "甜點:蛋糕\n"
     ]
    }
   ],
   "source": [
    "#參數如果有Default value\n",
    "#參數如果有Default value,一定要定義在最後面。\n",
    "\n",
    "def menu (wine:str,entree:str,dessert:str='奶昔')->None:\n",
    "    print(f'主餐:{entree}')\n",
    "    print(f'酒類:{wine}')\n",
    "    print(f'甜點:{dessert}')\n",
    "\n",
    "#引數值呼叫\n",
    "menu('紅酒','雞排')\n",
    "print(\"==========\")\n",
    "#引數名稱呼叫\n",
    "menu(entree='雞排',wine='紅酒')\n",
    "print(\"==============\")\n",
    "#混合呼叫\n",
    "menu('紅酒','雞排',dessert='蛋糕')\n",
    "print(\"==============\")\n",
    "menu('雞排','紅酒',dessert='蛋糕')\n",
    "\n",
    "#menu,呼叫時最少需要2個引數"
   ]
  },
  {
   "cell_type": "code",
   "execution_count": 18,
   "metadata": {},
   "outputs": [
    {
     "name": "stdout",
     "output_type": "stream",
     "text": [
      "()\n",
      "=========\n",
      "('雞排',)\n",
      "=========\n",
      "('雞排', '紅酒')\n",
      "==========\n",
      "('雞排', '紅酒', '奶昔')\n"
     ]
    }
   ],
   "source": [
    "#沒有限定數量的引數值呼叫\n",
    "def menu(*kind:str)->None:\n",
    "    print(kind)\n",
    "\n",
    "menu()\n",
    "print(\"=========\")\n",
    "menu('雞排')\n",
    "print(\"=========\")\n",
    "menu('雞排','紅酒')\n",
    "print(\"==========\")\n",
    "menu('雞排','紅酒','奶昔')"
   ]
  },
  {
   "cell_type": "code",
   "execution_count": 19,
   "metadata": {},
   "outputs": [
    {
     "name": "stdout",
     "output_type": "stream",
     "text": [
      "{}\n",
      "=========\n",
      "{'entree': '雞排'}\n",
      "=========\n",
      "{'entree': '雞排', 'wine': '紅酒'}\n",
      "==========\n",
      "{'entree': '雞排', 'wind': '紅酒', 'dessert': '奶昔'}\n"
     ]
    }
   ],
   "source": [
    "#沒有限定數量的引數名稱呼叫\n",
    "def menu(**kind:str)->None:\n",
    "    print(kind)\n",
    "\n",
    "menu()\n",
    "print(\"=========\")\n",
    "menu(entree='雞排')\n",
    "print(\"=========\")\n",
    "menu(entree='雞排',wine='紅酒')\n",
    "print(\"==========\")\n",
    "menu(entree='雞排',wind='紅酒',dessert='奶昔')"
   ]
  },
  {
   "cell_type": "code",
   "execution_count": 20,
   "metadata": {},
   "outputs": [
    {
     "name": "stdout",
     "output_type": "stream",
     "text": [
      "(1, 2, 3, 5, 4)\n",
      "{'one': 1, 'two': 2, 'three': 3}\n"
     ]
    }
   ],
   "source": [
    "def menu(*args:str,**kwargs:str)->None:\n",
    "    print(args)\n",
    "    print(kwargs)\n",
    "\n",
    "menu(1,2,3,5,4,one=1,two=2,three=3)"
   ]
  }
 ],
 "metadata": {
  "kernelspec": {
   "display_name": "Python 3",
   "language": "python",
   "name": "python3"
  },
  "language_info": {
   "codemirror_mode": {
    "name": "ipython",
    "version": 3
   },
   "file_extension": ".py",
   "mimetype": "text/x-python",
   "name": "python",
   "nbconvert_exporter": "python",
   "pygments_lexer": "ipython3",
   "version": "3.10.14"
  }
 },
 "nbformat": 4,
 "nbformat_minor": 2
}
