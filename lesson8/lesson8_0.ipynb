{
 "cells": [
  {
   "cell_type": "code",
   "execution_count": 1,
   "metadata": {},
   "outputs": [
    {
     "name": "stdout",
     "output_type": "stream",
     "text": [
      "請輸入整數,求所有因數:55688\n",
      "55688的因數是:\n",
      "1 2 4 8 6961 13922 27844 55688 "
     ]
    }
   ],
   "source": [
    "import pyinputplus as pyip\n",
    "\n",
    "n = pyip.inputInt(\"請輸入整數,求所有因數:\", min=0)\n",
    "print(n)\n",
    "print(f\"{n}的因數是:\")\n",
    "for i in range(1,n+1):\n",
    "    if n % i == 0: \n",
    "        print(i,end=' ')"
   ]
  },
  {
   "cell_type": "code",
   "execution_count": 1,
   "metadata": {},
   "outputs": [
    {
     "name": "stdout",
     "output_type": "stream",
     "text": [
      "======猜數字遊戲=========\n",
      "\n",
      "猜數字的範圍1~100=Blank values are not allowed.\n",
      "猜數字的範圍1~100=50\n",
      "再大一點\n",
      "你已經猜了1次\n",
      "猜數字的範圍51~100=90\n",
      "再大一點\n",
      "你已經猜了2次\n",
      "猜數字的範圍91~100=Blank values are not allowed.\n",
      "猜數字的範圍91~100=95\n",
      "再大一點\n",
      "你已經猜了3次\n",
      "猜數字的範圍96~100=95\n",
      "再大一點\n",
      "你已經猜了4次\n",
      "猜數字的範圍96~100=98\n",
      "再大一點\n",
      "你已經猜了5次\n",
      "猜數字的範圍99~100=98\n",
      "再大一點\n",
      "你已經猜了6次\n",
      "猜數字的範圍99~100=99\n",
      "再大一點\n",
      "你已經猜了7次\n",
      "猜數字的範圍100~100=100\n",
      "賓果!! 猜對了,答案是<module 'random' from '/usr/local/lib/python3.10/random.py'>\n",
      "你總共猜了8\n",
      "遊戲結束\n"
     ]
    }
   ],
   "source": [
    "import random\n",
    "import pyinputplus as pyip\n",
    "\n",
    "min = 1\n",
    "max = 100\n",
    "count=0\n",
    "target = random.randint(min,max)\n",
    "print('======猜數字遊戲=========\\n')\n",
    "while True:\n",
    "    count+=1\n",
    "    keyin=pyip.inputInt(f'猜數字的範圍{min}~{max}=')\n",
    "    print(keyin)\n",
    "    if keyin==target:\n",
    "        print (f'賓果!! 猜對了,答案是{random}')\n",
    "        print(f'你總共猜了{count}')\n",
    "        break\n",
    "    elif keyin>target:\n",
    "        print('在小一點')\n",
    "        max=keyin-1\n",
    "    elif keyin < target:\n",
    "        print('再大一點')\n",
    "        min=keyin+1\n",
    "    print(f'你已經猜了{count}次')\n",
    "\n",
    "print('遊戲結束')\n",
    "\n",
    "                  \n"
   ]
  }
 ],
 "metadata": {
  "kernelspec": {
   "display_name": "Python 3",
   "language": "python",
   "name": "python3"
  },
  "language_info": {
   "codemirror_mode": {
    "name": "ipython",
    "version": 3
   },
   "file_extension": ".py",
   "mimetype": "text/x-python",
   "name": "python",
   "nbconvert_exporter": "python",
   "pygments_lexer": "ipython3",
   "version": "3.10.14"
  }
 },
 "nbformat": 4,
 "nbformat_minor": 2
}
