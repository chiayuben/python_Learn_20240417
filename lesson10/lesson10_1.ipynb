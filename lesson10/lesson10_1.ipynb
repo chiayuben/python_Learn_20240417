{
 "cells": [
  {
   "cell_type": "code",
   "execution_count": 2,
   "metadata": {},
   "outputs": [],
   "source": [
    "file=open('names.txt',encoding='utf-8')\n",
    "file.close()"
   ]
  },
  {
   "cell_type": "code",
   "execution_count": 27,
   "metadata": {},
   "outputs": [
    {
     "name": "stdout",
     "output_type": "stream",
     "text": [
      "陳怡伶\n",
      "馮芳如\n",
      "蒙淑惠\n",
      "======================\n",
      "陳怡伶\n",
      "馮芳如\n",
      "蒙淑惠\n",
      "['陳怡伶', '馮芳如']\n",
      "['陳怡伶', '馮芳如', '蒙淑惠', '張軒宸', '陳向愛']\n",
      "['李淑芳', '謝南慧', '趙家豪', '龐皓芳', '張彥博']\n"
     ]
    }
   ],
   "source": [
    "with open('names.txt',encoding='utf-8') as file:\n",
    "    content:str = file.read()\n",
    "\n",
    "names:list[str]=content.split(sep='\\n')\n",
    "for name in names[:3]:\n",
    "    print(name)\n",
    "print('======================')\n",
    "#subscript語法\n",
    "print(names[0])\n",
    "print(names[1])\n",
    "print(names[2])\n",
    "print(names[0:2])#slice\n",
    "print(names[:5])#slice->前五個\n",
    "print(names[-5:])#slice->後五個"
   ]
  },
  {
   "cell_type": "code",
   "execution_count": 28,
   "metadata": {},
   "outputs": [
    {
     "name": "stdout",
     "output_type": "stream",
     "text": [
      "<class 'list'>\n",
      "['a', 'b', 'c']\n"
     ]
    }
   ],
   "source": [
    "#建立一個空的list,使用初始化\n",
    "print(list)\n",
    "print(list('abc'))\n",
    "\n",
    "#建立空的list,使用純值表示法\n"
   ]
  },
  {
   "cell_type": "code",
   "execution_count": null,
   "metadata": {},
   "outputs": [],
   "source": [
    "import random\n",
    "\n",
    "with open('names.txt',encoding='utf-8') as file:\n",
    "    content:str = file.read()\n",
    "\n",
    "names:list[str]=content.split(sep='\\n')\n",
    "\n",
    "random.choice"
   ]
  }
 ],
 "metadata": {
  "kernelspec": {
   "display_name": "Python 3",
   "language": "python",
   "name": "python3"
  },
  "language_info": {
   "codemirror_mode": {
    "name": "ipython",
    "version": 3
   },
   "file_extension": ".py",
   "mimetype": "text/x-python",
   "name": "python",
   "nbconvert_exporter": "python",
   "pygments_lexer": "ipython3",
   "version": "3.10.14"
  }
 },
 "nbformat": 4,
 "nbformat_minor": 2
}
