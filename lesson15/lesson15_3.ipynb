{
 "cells": [
  {
   "cell_type": "code",
   "execution_count": 1,
   "metadata": {},
   "outputs": [
    {
     "name": "stdout",
     "output_type": "stream",
     "text": [
      "144\n",
      "=========================\n",
      "170\n",
      "=========================\n",
      "164\n",
      "=========================\n",
      "167\n",
      "=========================\n",
      "168\n",
      "=========================\n"
     ]
    }
   ],
   "source": [
    "student1 = [69,78,72,91,85]\n",
    "student2 = [75,92,92,76,83]\n",
    "\n",
    "for i in range(len(student1)):\n",
    "    scores=student1[i]+student2[i]\n",
    "    print(scores)\n",
    "    print(\"=========================\")"
   ]
  },
  {
   "cell_type": "code",
   "execution_count": 6,
   "metadata": {},
   "outputs": [
    {
     "name": "stdout",
     "output_type": "stream",
     "text": [
      "144\n",
      "=========\n",
      "170\n",
      "=========\n",
      "164\n",
      "=========\n",
      "167\n",
      "=========\n",
      "168\n",
      "=========\n"
     ]
    }
   ],
   "source": [
    "import numpy as np\n",
    "from numpy import ndarray\n",
    "student1:ndarray = np.array([69,78,72,91,85])\n",
    "student2:ndarray = np.array([75,92,92,76,83])\n",
    "\n",
    "#可以做陣列運算,不需使用for...in\n",
    "totals:ndarray= student1 + student2\n",
    "for total in totals:\n",
    "    print(total)\n",
    "    print(\"=========\")"
   ]
  },
  {
   "cell_type": "code",
   "execution_count": 8,
   "metadata": {},
   "outputs": [
    {
     "name": "stdout",
     "output_type": "stream",
     "text": [
      "[[1 2 3]\n",
      " [4 5 6]]\n",
      "2\n",
      "(2, 3)\n",
      "6\n",
      "int64\n"
     ]
    }
   ],
   "source": [
    "array:ndarray = np.array([[1,2,3],[4,5,6]])\n",
    "print(array)\n",
    "#property\n",
    "#ndim,shape,size,dtype\n",
    "\n",
    "print(array.ndim)\n",
    "print(array.shape)\n",
    "print(array.size)\n",
    "print(array.dtype)\n",
    "\n",
    "\n",
    "#ndim(維度)、shape(形狀)、Size、dtype\n"
   ]
  },
  {
   "cell_type": "code",
   "execution_count": 10,
   "metadata": {},
   "outputs": [
    {
     "name": "stdout",
     "output_type": "stream",
     "text": [
      "[[90 55 75 82 55]\n",
      " [53 76 83 66 97]\n",
      " [93 81 90 66 62]\n",
      " [74 78 80 93 97]\n",
      " [54 81 60 86 62]\n",
      " [53 72 72 95 87]\n",
      " [55 71 62 55 59]\n",
      " [50 95 94 64 50]\n",
      " [87 73 52 67 60]\n",
      " [95 65 91 62 67]]\n"
     ]
    }
   ],
   "source": [
    "scorse =np.random.randint(50,101,size=(10,5))\n",
    "print(scorse)"
   ]
  }
 ],
 "metadata": {
  "kernelspec": {
   "display_name": "Python 3",
   "language": "python",
   "name": "python3"
  },
  "language_info": {
   "codemirror_mode": {
    "name": "ipython",
    "version": 3
   },
   "file_extension": ".py",
   "mimetype": "text/x-python",
   "name": "python",
   "nbconvert_exporter": "python",
   "pygments_lexer": "ipython3",
   "version": "3.10.14"
  }
 },
 "nbformat": 4,
 "nbformat_minor": 2
}
