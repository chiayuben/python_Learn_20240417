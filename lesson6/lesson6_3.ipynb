{
 "cells": [
  {
   "cell_type": "code",
   "execution_count": 4,
   "metadata": {
    "metadata": {}
   },
   "outputs": [
    {
     "name": "stdout",
     "output_type": "stream",
     "text": [
      "1000元\n"
     ]
    }
   ],
   "source": [
    "# 國文100分同時數學100分,獎金1000元。\n",
    "# 國文100分或是數學100分,獎金500元。\n",
    "\n",
    "chinese= int(input('請輸入國文分數'))\n",
    "math = int(input('請輸入數學分數'))\n",
    "\n",
    "if chinese==100 and math==100 :\n",
    "    bonus = 1000\n",
    "elif chinese==100 or math ==100:\n",
    "    bonus = 500\n",
    "else:\n",
    "    bonus =0\n",
    "print(f'{bonus}元')"
   ]
  },
  {
   "cell_type": "code",
   "execution_count": 8,
   "metadata": {
    "metadata": {}
   },
   "outputs": [
    {
     "name": "stdout",
     "output_type": "stream",
     "text": [
      "請輸入學生分數(最高300分)Number must be at maximum 300.\n",
      "請輸入學生分數(最高300分)180\n"
     ]
    }
   ],
   "source": [
    "import pyinputplus as pyip\n",
    "\n",
    "score=pyip.inputInt('請輸入學生分數(最高300分)',min=0,max=300)\n",
    "print(score)"
   ]
  },
  {
   "cell_type": "code",
   "execution_count": 7,
   "metadata": {},
   "outputs": [
    {
     "name": "stdout",
     "output_type": "stream",
     "text": [
      "請輸入身高(120~230)(cm):Number must be at minimum 120.\n",
      "請輸入身高(120~230)(cm):你的名字是ben,體重為150.0,身高為150,經計算後BMI為66.7\n",
      "重度肥胖\n",
      "ben, 您的BMI: 66.67\n"
     ]
    }
   ],
   "source": [
    "import pyinputplus as pyip\n",
    "try:\n",
    "    name = input('請輸入姓名:')\n",
    "    high = pyip.inputInt('請輸入身高(120~230)(cm):',min=120,max=230) \n",
    "    if high<120 or high>230:\n",
    "        raise Exception(\"身高必需大於120同時小於230\")    \n",
    "    weight = float(input('請輸入體重(40~170)(kg):'))\n",
    "    if weight<40 or weight>170:\n",
    "        raise Exception(\"體重必需大於40同時小於170\")\n",
    "    bmi = weight /( high / 100) ** 2\n",
    "    print(f'你的名字是{name},體重為{weight},身高為{high},經計算後BMI為{round(bmi,ndigits=1)}')\n",
    "    if bmi<18.5 :\n",
    "        print('體重過輕')\n",
    "    elif bmi>=18.5 and bmi<24:\n",
    "        print('BMI正常')\n",
    "    elif bmi>=24 and bmi<27:\n",
    "        print('過重')\n",
    "    elif bmi<=27 and bmi<30:\n",
    "        print('輕度肥胖')\n",
    "    elif bmi<=30 and bmi<35:\n",
    "        print('中度肥胖')\n",
    "    else:\n",
    "        print('重度肥胖')\n",
    "    print(f'{name}, 您的BMI: {round(bmi,ndigits=2)}')\n",
    "    #您的體重:正常\n",
    "except Exception as e:\n",
    "    print(f'錯誤: {e}')"
   ]
  },
  {
   "cell_type": "code",
   "execution_count": 15,
   "metadata": {},
   "outputs": [
    {
     "name": "stdout",
     "output_type": "stream",
     "text": [
      "你的名字是ben,體重為40.0,身高為230.0,經計算後BMI為12.3\n",
      "體重過輕\n"
     ]
    }
   ],
   "source": [
    "try:\n",
    "    name = input('請輸入姓名:')\n",
    "    high = float(input('請輸入身高(120~230)(cm):')) \n",
    "    if high<120 or high>230:\n",
    "        raise Exception(\"身高必需大於120同時小於230\")    \n",
    "    weight = float(input('請輸入體重(40~170)(kg):'))\n",
    "    if weight<40 or weight>170:\n",
    "        raise Exception(\"體重必需大於40同時小於170\")\n",
    "    bmi = weight / (height / 100) ** 2\n",
    "    print(f'你的名字是{name},體重為{weight},身高為{high},經計算後BMI為{round(bmi,ndigits=1)}')\n",
    "    if bmi<18.5 :\n",
    "        print('體重過輕')\n",
    "    elif bmi>=18.5 and bmi<24:\n",
    "        print('BMI正常')\n",
    "    elif bmi>=24 and bmi<27:\n",
    "        print('過重')\n",
    "    elif bmi<=27 and bmi<30:\n",
    "        print('輕度肥胖')\n",
    "    elif bmi<=30 and bmi<35:\n",
    "        print('中度肥胖')\n",
    "    else:\n",
    "        print('重度肥胖')\n",
    "    #您的體重:正常\n",
    "except Exception as e:\n",
    "    print(f'錯誤: {e}')"
   ]
  },
  {
   "cell_type": "code",
   "execution_count": null,
   "metadata": {},
   "outputs": [],
   "source": []
  }
 ],
 "metadata": {
  "kernelspec": {
   "display_name": "Python 3",
   "language": "python",
   "name": "python3"
  },
  "language_info": {
   "codemirror_mode": {
    "name": "ipython",
    "version": 3
   },
   "file_extension": ".py",
   "mimetype": "text/x-python",
   "name": "python",
   "nbconvert_exporter": "python",
   "pygments_lexer": "ipython3",
   "version": "3.10.14"
  }
 },
 "nbformat": 4,
 "nbformat_minor": 2
}
