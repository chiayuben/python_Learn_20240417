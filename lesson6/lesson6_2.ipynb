{
 "cells": [
  {
   "cell_type": "code",
   "execution_count": 6,
   "metadata": {
    "metadata": {}
   },
   "outputs": [
    {
     "name": "stdout",
     "output_type": "stream",
     "text": [
      "甲\n"
     ]
    }
   ],
   "source": [
    "scores:int=int(input('請輸入學生分數(最高300分)'))\n",
    "if scores>= 220:\n",
    "    print('優')\n",
    "else :\n",
    "    if scores>=180 :\n",
    "        print('甲')\n",
    "    else :\n",
    "        print('不及格')"
   ]
  },
  {
   "cell_type": "code",
   "execution_count": 10,
   "metadata": {
    "metadata": {}
   },
   "outputs": [
    {
     "name": "stdout",
     "output_type": "stream",
     "text": [
      "錯誤輸入分數不可超過300分\n"
     ]
    }
   ],
   "source": [
    "try:\n",
    "    scores:int=int(input('請輸入學生分數(最高300分)'))\n",
    "    if scores > 300:\n",
    "        raise Exception('輸入分數不可超過300分')\n",
    "        if scores>= 220:\n",
    "            print('優')\n",
    "        elif scores>=180 :\n",
    "            print('甲')\n",
    "        else :\n",
    "            print('不及格')\n",
    "except Exception as e:\n",
    "    print(f'錯誤{e}')"
   ]
  },
  {
   "cell_type": "code",
   "execution_count": null,
   "metadata": {},
   "outputs": [],
   "source": [
    "try:\n",
    "    name:str=input('請輸入名字')\n",
    "    weight:str|float=eval(input('請輸入重量(Kg)'))\n",
    "    high:str|float=eval(input('請輸入身高(公分)'))\n",
    "\n",
    "    BMI:str|float=weight/(high/100)**2\n",
    "    print(f'你的名字是{name},體重為{weight},身高為{high},經計算後BMI為{round(BMI,ndigits=1)}')\n",
    "    if BMI>=18.5:\n",
    "        if BMI>=24:\n",
    "            print('你的BMI偏高,可能要減肥了喔')\n",
    "        else:\n",
    "            print('BMI很標準繼續保持')\n",
    "    else:\n",
    "        if BMI <=18.5:\n",
    "            print('你的BMI值偏低,記得多吃點喔')\n",
    "except Exception as e :\n",
    "    print(f'發生錯誤{e}請重新輸入')  \n"
   ]
  },
  {
   "cell_type": "code",
   "execution_count": 31,
   "metadata": {
    "metadata": {}
   },
   "outputs": [
    {
     "name": "stdout",
     "output_type": "stream",
     "text": [
      "不及格\n"
     ]
    }
   ],
   "source": [
    "try:\n",
    "    scores:int=int(input('請輸入學生分數(最高300分)'))\n",
    "    if scores > 300:\n",
    "        raise Exception('輸入分數不可超過300分')\n",
    "    if scores>= 180:\n",
    "        if scores>=220:\n",
    "            print('優')\n",
    "        else:\n",
    "            print('甲')\n",
    "    else:\n",
    "        print('不及格')\n",
    "except Exception as e:\n",
    "    print(f'錯誤{e}')"
   ]
  },
  {
   "cell_type": "code",
   "execution_count": 27,
   "metadata": {
    "metadata": {}
   },
   "outputs": [
    {
     "name": "stdout",
     "output_type": "stream",
     "text": [
      "丁\n"
     ]
    }
   ],
   "source": [
    "#90(含)~100分為「優」\n",
    "#80(含)~89分為「甲」\n",
    "#70(含)~79分為「乙」\n",
    "#60(含)~69分為「丙」\n",
    "#0(含)~59分為「丁」\n",
    "try:\n",
    "    score = int(input(\"請輸入學生分數:\"))\n",
    "    if score >100:\n",
    "        raise Exception ('輸入分數不可超過100分')\n",
    "    if score<60:\n",
    "        grade = '丁'\n",
    "    elif score<70:\n",
    "        grade = '丙'\n",
    "    elif score<80:\n",
    "        grade = '乙'\n",
    "    elif score<90:\n",
    "        grade = '甲'\n",
    "    else:\n",
    "        grade = '優'\n",
    "    print(grade)\n",
    "except Exception as e:\n",
    "    print(f'錯誤{e}')"
   ]
  }
 ],
 "metadata": {
  "kernelspec": {
   "display_name": "Python 3",
   "language": "python",
   "name": "python3"
  },
  "language_info": {
   "codemirror_mode": {
    "name": "ipython",
    "version": 3
   },
   "file_extension": ".py",
   "mimetype": "text/x-python",
   "name": "python",
   "nbconvert_exporter": "python",
   "pygments_lexer": "ipython3",
   "version": "3.10.14"
  }
 },
 "nbformat": 4,
 "nbformat_minor": 2
}
