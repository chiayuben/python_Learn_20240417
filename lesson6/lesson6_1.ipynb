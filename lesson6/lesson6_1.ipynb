{
 "cells": [
  {
   "cell_type": "code",
   "execution_count": 1,
   "metadata": {
    "metadata": {}
   },
   "outputs": [
    {
     "name": "stdout",
     "output_type": "stream",
     "text": [
      "格式錯誤: could not convert string to float: 'aa'\n"
     ]
    }
   ],
   "source": [
    "try:\n",
    "    name = input('請輸入姓名:')\n",
    "    height = float(input('請輸入身高(cm):'))\n",
    "    weight = float(input('請輸入體重(kg):'))\n",
    "    bmi = weight / (height / 100) ** 2\n",
    "    print(f'{name}, 您的BMI: {round(bmi,ndigits=2)}')\n",
    "except Exception as e:\n",
    "    print(f'格式錯誤: {e}')"
   ]
  },
  {
   "cell_type": "code",
   "execution_count": 2,
   "metadata": {
    "metadata": {}
   },
   "outputs": [
    {
     "name": "stdout",
     "output_type": "stream",
     "text": [
      "ben, 您的BMI: 41.32\n"
     ]
    }
   ],
   "source": [
    "try:\n",
    "    name = input('請輸入姓名:')\n",
    "    height = float(input('請輸入身高(cm):')) \n",
    "    if height >= 120:\n",
    "         if height <= 230:\n",
    "             print(\"身高正常\")\n",
    "    weight = eval(input('請輸入體重(kg):'))\n",
    "    bmi = weight / (height / 100) ** 2\n",
    "    print(f'{name}, 您的BMI: {round(bmi,ndigits=2)}')\n",
    "except Exception as e:\n",
    "    print(f'格式錯誤: {e}')"
   ]
  },
  {
   "cell_type": "code",
   "execution_count": 8,
   "metadata": {
    "metadata": {}
   },
   "outputs": [
    {
     "data": {
      "text/plain": [
       "False"
      ]
     },
     "execution_count": 8,
     "metadata": {},
     "output_type": "execute_result"
    }
   ],
   "source": [
    "not False\n",
    "not True"
   ]
  },
  {
   "cell_type": "code",
   "execution_count": 12,
   "metadata": {
    "metadata": {}
   },
   "outputs": [
    {
     "name": "stdout",
     "output_type": "stream",
     "text": [
      "身高正常\n",
      "身高正常\n"
     ]
    }
   ],
   "source": [
    "height = float(input('請輸入身高(cm):')) \n",
    "if height>=120:\n",
    "    if height<=230:\n",
    "        print(\"身高正常\")\n",
    "height = float(input('請輸入身高(cm):')) \n",
    "if height>=120 and height<230 :\n",
    "    print('身高正常')"
   ]
  },
  {
   "cell_type": "code",
   "execution_count": 10,
   "metadata": {
    "metadata": {}
   },
   "outputs": [
    {
     "name": "stdout",
     "output_type": "stream",
     "text": [
      "身高不正常\n"
     ]
    }
   ],
   "source": [
    "height=float(input('請輸入身高'))\n",
    "if height>=120 and height<=230 :\n",
    "    print('身高正常')\n",
    "if height <120 or height>230 :\n",
    "    print ('身高不正常')"
   ]
  },
  {
   "cell_type": "code",
   "execution_count": 22,
   "metadata": {
    "metadata": {}
   },
   "outputs": [
    {
     "name": "stdout",
     "output_type": "stream",
     "text": [
      "ben, 您的BMI: 88.76\n"
     ]
    }
   ],
   "source": [
    "try:\n",
    "    name = input('請輸入姓名:')\n",
    "    height = float(input('請輸入身高(cm):')) \n",
    "    if height<120 or height>230:\n",
    "        raise Exception(\"身高必需大於120同時小於230\")    \n",
    "    weight = eval(input('請輸入體重(kg):'))\n",
    "    if weight <40 or weight >170 :\n",
    "        raise Exception('體重必須大於40公斤同時小於170')\n",
    "    bmi = weight / (height / 100) ** 2\n",
    "    print(f'{name}, 您的BMI: {round(bmi,ndigits=2)}')\n",
    "except Exception as e:\n",
    "    print(f'錯誤: {e}')"
   ]
  }
 ],
 "metadata": {
  "kernelspec": {
   "display_name": "Python 3",
   "language": "python",
   "name": "python3"
  },
  "language_info": {
   "codemirror_mode": {
    "name": "ipython",
    "version": 3
   },
   "file_extension": ".py",
   "mimetype": "text/x-python",
   "name": "python",
   "nbconvert_exporter": "python",
   "pygments_lexer": "ipython3",
   "version": "3.10.14"
  }
 },
 "nbformat": 4,
 "nbformat_minor": 2
}
