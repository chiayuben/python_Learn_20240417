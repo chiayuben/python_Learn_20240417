{
 "cells": [
  {
   "cell_type": "code",
   "execution_count": 11,
   "metadata": {},
   "outputs": [
    {
     "name": "stdout",
     "output_type": "stream",
     "text": [
      "請輸入第1月存的金額:3000\n",
      "請輸入第2月存的金額:5000\n",
      "請輸入第3月存的金額:20000\n",
      "請輸入第4月存的金額:3000\n",
      "最後一次存的金額是:3000\n",
      "小明總共存了4個月,已經存了31000元\n"
     ]
    }
   ],
   "source": [
    "# 小明想要存錢買一輛機車，機車每台30000元，他將每個月的錢輸入，當存款足夠買機車時，就通知訊息告知。\n",
    "import pyinputplus as pyip\n",
    "deposit = 0 \n",
    "num=0\n",
    "while deposit<30000:\n",
    "    input_money = pyip.inputInt(f\"請輸入第{num+1}月存的金額:\")\n",
    "    print(input_money)\n",
    "    deposit += input_money\n",
    "    num+=1\n",
    "print(f\"最後一次存的金額是:{input_money}\")\n",
    "print(f\"小明總共存了{num}個月,已經存了{deposit}元\")"
   ]
  },
  {
   "cell_type": "code",
   "execution_count": 16,
   "metadata": {},
   "outputs": [
    {
     "name": "stdout",
     "output_type": "stream",
     "text": [
      "請輸入第1月存的金額:20000\n",
      "請輸入第2月存的金額:1234\n",
      "請輸入第3月存的金額:5698\n",
      "請輸入第4月存的金額:9874\n",
      "最後一次存的金額是:9874\n",
      "小明總共存了4個月,已經存了36806元\n"
     ]
    }
   ],
   "source": [
    "import pyinputplus as pyip\n",
    "deposit = 0 \n",
    "num=0\n",
    "while True:\n",
    "    num+=1\n",
    "    input_money = pyip.inputInt(f\"請輸入第{num+1}月存的金額:\")\n",
    "    print(input_money)\n",
    "    deposit += input_money\n",
    "    if deposit>=30000:\n",
    "        break\n",
    "    \n",
    "print(f\"最後一次存的金額是:{input_money}\")\n",
    "print(f\"小明總共存了{num}個月,已經存了{deposit}元\")"
   ]
  },
  {
   "cell_type": "code",
   "execution_count": 20,
   "metadata": {},
   "outputs": [
    {
     "name": "stdout",
     "output_type": "stream",
     "text": [
      "1的平方是1\n",
      "不做事\n",
      "3的平方是9\n",
      "不做事\n",
      "不做事\n",
      "輸入錯誤\n",
      "輸入錯誤\n",
      "輸入錯誤\n",
      "輸入錯誤\n",
      "輸入錯誤\n",
      "輸入錯誤\n",
      "應用程式結束\n"
     ]
    }
   ],
   "source": [
    "#請輸入整數,輸入[q]離開:\n",
    "#顯示:\n",
    "#奇數輸出平方\n",
    "#偶數不做任何動作\n",
    "#'q'要離開\n",
    "\n",
    "while True:\n",
    "    value = str.upper(input(\"請輸入整數,輸入[q]離開:\"))\n",
    "    if value == 'Q':\n",
    "        break\n",
    "    try:\n",
    "        valueInt = int(value)\n",
    "    except:\n",
    "        print(\"輸入錯誤\")\n",
    "        continue\n",
    "    \n",
    "    if valueInt % 2 == 1:\n",
    "        print(f\"{valueInt}的平方是{valueInt ** 2}\")\n",
    "    else:\n",
    "        print(\"不做事\")\n",
    "\n",
    "print(\"應用程式結束\")"
   ]
  },
  {
   "cell_type": "code",
   "execution_count": 91,
   "metadata": {},
   "outputs": [
    {
     "name": "stdout",
     "output_type": "stream",
     "text": [
      "10的因數是:\n",
      "1 2 5 10 ,共有4個因數\n",
      "\n",
      "-1的因數是:\n",
      ",共有0個因數\n",
      "\n",
      "5的因數是:\n",
      "1 5 ,共有2個因數\n",
      "\n",
      "20的因數是:\n",
      "1 2 4 5 10 20 ,共有6個因數\n",
      "\n",
      "10的因數是:\n",
      "1 2 5 10 ,共有4個因數\n",
      "\n",
      "應用程式結束\n"
     ]
    }
   ],
   "source": [
    "#請輸入整數,輸入[q]離開:\n",
    "#輸入:\n",
    "#請輸入整數i,求所有因數:\n",
    "\n",
    "#輸出:\n",
    "#i的因數是:\n",
    "while True:\n",
    "    value = str.upper(input(\"請輸入整數,輸入[q]離開:\"))\n",
    "    if value == 'Q':\n",
    "        break\n",
    "    try:\n",
    "        print(f'{value}的因數是:')\n",
    "        valueInt = int(value)\n",
    "        num=0\n",
    "        for i in range(1,valueInt+1):\n",
    "            if valueInt % i == 0:\n",
    "                print(f'{i}',end=' ')\n",
    "                num+=1\n",
    "        print(f',共有{num}個因數')\n",
    "        print()\n",
    "    except:    \n",
    "        print(\"輸入錯誤,請重新輸入\")\n",
    "        continue\n",
    "\n",
    "print(\"應用程式結束\")"
   ]
  },
  {
   "cell_type": "code",
   "execution_count": 90,
   "metadata": {},
   "outputs": [
    {
     "name": "stdout",
     "output_type": "stream",
     "text": [
      "請輸入整數，求所有因數: Number must be at minimum 1.\n",
      "請輸入整數，求所有因數: '0.1' is not an integer.\n",
      "請輸入整數，求所有因數: 'q' is not an integer.\n",
      "請輸入整數，求所有因數: 5\n",
      "5的因數是:\n",
      "1 5 "
     ]
    }
   ],
   "source": [
    "import pyinputplus as pyip\n",
    "\n",
    "value = pyip.inputInt('請輸入整數，求所有因數: ', min=1); print(value)\n",
    "print(f'{value}的因數是:')\n",
    "\n",
    "for i in range(1, value + 1):\n",
    "    if value % i == 0:\n",
    "        print(i, end=' ')"
   ]
  },
  {
   "cell_type": "code",
   "execution_count": 1,
   "metadata": {},
   "outputs": [
    {
     "name": "stdout",
     "output_type": "stream",
     "text": [
      "10的因數是:\n",
      "1 2 5 10 ,共有4個因數\n",
      "\n",
      "20的因數是:\n",
      "1 2 4 5 10 20 ,共有6個因數\n",
      "\n",
      "30的因數是:\n",
      "1 2 3 5 6 10 15 30 ,共有8個因數\n",
      "\n",
      "40的因數是:\n",
      "1 2 4 5 8 10 20 40 ,共有8個因數\n",
      "\n",
      "50的因數是:\n",
      "1 2 5 10 25 50 ,共有6個因數\n",
      "\n",
      "60的因數是:\n",
      "1 2 3 4 5 6 10 12 15 20 30 60 ,共有12個因數\n",
      "\n",
      "70的因數是:\n",
      "1 2 5 7 10 14 35 70 ,共有8個因數\n",
      "\n",
      "80的因數是:\n",
      "1 2 4 5 8 10 16 20 40 80 ,共有10個因數\n",
      "\n",
      "90的因數是:\n",
      "1 2 3 5 6 9 10 15 18 30 45 90 ,共有12個因數\n",
      "\n",
      "100的因數是:\n",
      "1 2 4 5 10 20 25 50 100 ,共有9個因數\n",
      "\n",
      "100的因數是:\n",
      "1 2 4 5 10 20 25 50 100 ,共有9個因數\n",
      "\n",
      "輸入錯誤,請重新輸入\n",
      "應用程式結束\n"
     ]
    }
   ],
   "source": [
    "#請輸入整數,輸入[q]離開:\n",
    "#輸入:\n",
    "#請輸入整數i,求所有因數:\n",
    "#輸出:\n",
    "#i的因數是:\n",
    "while True:\n",
    "    value = str.upper(input(\"請輸入整數,輸入[q]離開:\"))\n",
    "    try:\n",
    "        if value == 'Q':\n",
    "            break\n",
    "        elif eval(value)<1 :\n",
    "                print(f'輸入數值為{value}數值,需大於零且為整數')\n",
    "                continue\n",
    "        try:\n",
    "            print(f'{value}的因數是:')\n",
    "            valueInt = int(value)\n",
    "            num=0\n",
    "            for i in range(1,valueInt+1):\n",
    "                if valueInt % i == 0:\n",
    "                    print(f'{i}',end=' ')\n",
    "                    num+=1\n",
    "            print(f',共有{num}個因數')\n",
    "            print()\n",
    "        except:    \n",
    "            print(\"輸入錯誤,請重新輸入\")\n",
    "            continue\n",
    "    except:\n",
    "         print(\"輸入錯誤,請重新輸入\")\n",
    "print(\"應用程式結束\")"
   ]
  }
 ],
 "metadata": {
  "kernelspec": {
   "display_name": "Python 3",
   "language": "python",
   "name": "python3"
  },
  "language_info": {
   "codemirror_mode": {
    "name": "ipython",
    "version": 3
   },
   "file_extension": ".py",
   "mimetype": "text/x-python",
   "name": "python",
   "nbconvert_exporter": "python",
   "pygments_lexer": "ipython3",
   "version": "3.10.14"
  }
 },
 "nbformat": 4,
 "nbformat_minor": 2
}
