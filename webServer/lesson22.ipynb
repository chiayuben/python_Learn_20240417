{
 "cells": [
  {
   "cell_type": "code",
   "execution_count": 7,
   "metadata": {},
   "outputs": [
    {
     "name": "stdout",
     "output_type": "stream",
     "text": [
      "**提早退休的步驟**\n",
      "\n",
      "**1. 設定明確的目標**\n",
      "\n",
      "* 確定您期望的退休年齡和生活方式。\n",
      "* 計算所需的財務資源和預計的支出。\n",
      "\n",
      "**2. 制定財務計畫**\n",
      "\n",
      "* 增加儲蓄率和投資回報。\n",
      "* 探索提早退休的財務工具，例如：\n",
      "    * 401(k) 計畫\n",
      "    * IRA\n",
      "    * 房地產投資\n",
      "    * 副業收入\n",
      "\n",
      "**3. 減少不必要的支出**\n",
      "\n",
      "* 分析您的預算並找出不必要的支出。\n",
      "* 協商較低的帳單、取消不使用的訂閱並減少奢侈品。\n",
      "\n",
      "**4. 增加收入**\n",
      "\n",
      "* 請求加薪或升遷。\n",
      "* 從事兼職工作或副業。\n",
      "* 投資房地產或其他收入產生資產。\n",
      "\n",
      "**5. 投資教育和技能**\n",
      "\n",
      "* 提升您的知識和技能以提高您的賺錢能力。\n",
      "* 探索新的職業道路或創辦自己的企業。\n",
      "\n",
      "**6. 考慮兼職退休**\n",
      "\n",
      "* 在退休後繼續工作部分時間。\n",
      "* 這可以幫助您補充收入並緩解無聊。\n",
      "\n",
      "**7. 尋求專業建議**\n",
      "\n",
      "* 諮詢財務顧問或稅務專家以制定最佳策略。\n",
      "* 尋求職業諮詢以探索替代職業選擇。\n",
      "\n",
      "**8. 做出生活方式調整**\n",
      "\n",
      "* 考慮縮小住房規模或搬到生活成本較低的地區。\n",
      "* 探索志願服務或愛好，以保持參與度和目的感。\n",
      "\n",
      "**9. 靈活應變**\n",
      "\n",
      "* 經濟狀況和個人情況可能會改變。\n",
      "* 定期審查您的計畫，並根據需要進行調整。\n",
      "\n",
      "**10. 享受退休生活**\n",
      "\n",
      "* 一旦您達到財務目標並做好準備，就開始享受您應得的退休生活。\n",
      "* 追求您的熱情，花時間與親人在一起，做讓您快樂的事情。\n"
     ]
    }
   ],
   "source": [
    "import google.generativeai as genai\n",
    "## 密碼絕對不能放到程式裡面\n",
    "from dotenv import load_dotenv\n",
    "import os\n",
    "load_dotenv()\n",
    "\n",
    "genai.configure(api_key=os.environ['Gemini_API_Key'])\n",
    "\n",
    "model = genai.GenerativeModel('gemini-pro')\n",
    "response=model.generate_content(\"我想要提早退休\")\n",
    "print(response.text)"
   ]
  }
 ],
 "metadata": {
  "kernelspec": {
   "display_name": "Python 3",
   "language": "python",
   "name": "python3"
  },
  "language_info": {
   "codemirror_mode": {
    "name": "ipython",
    "version": 3
   },
   "file_extension": ".py",
   "mimetype": "text/x-python",
   "name": "python",
   "nbconvert_exporter": "python",
   "pygments_lexer": "ipython3",
   "version": "3.10.14"
  }
 },
 "nbformat": 4,
 "nbformat_minor": 2
}
