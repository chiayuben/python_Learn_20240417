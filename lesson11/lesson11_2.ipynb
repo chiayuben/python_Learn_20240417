{
 "cells": [
  {
   "cell_type": "code",
   "execution_count": 27,
   "metadata": {},
   "outputs": [
    {
     "name": "stdout",
     "output_type": "stream",
     "text": [
      "Jone\n",
      "Smith\n",
      "30\n",
      "first_name='Jone' last_name='Smith' age=30\n"
     ]
    }
   ],
   "source": [
    "#pydantic功能與dataclass 類似\n",
    "from pydantic import BaseModel\n",
    "\n",
    "class Person(BaseModel):\n",
    "    #field一定要有type hint\n",
    "    first_name:str\n",
    "    last_name:str\n",
    "    age:int\n",
    "\n",
    "p1=Person(first_name='Jone',last_name='Smith',age=30)\n",
    "print(p1.first_name)\n",
    "print(p1.last_name)\n",
    "print(p1.age)\n",
    "print(p1)"
   ]
  },
  {
   "cell_type": "markdown",
   "metadata": {},
   "source": [
    "## dataclass 做不到的\n",
    "### 驗證資料"
   ]
  },
  {
   "cell_type": "code",
   "execution_count": 4,
   "metadata": {},
   "outputs": [
    {
     "name": "stdout",
     "output_type": "stream",
     "text": [
      "first_name='Jone' last_name='Smith' age=30\n"
     ]
    }
   ],
   "source": [
    "\n",
    "p1=Person(first_name='Jone',last_name='Smith',age='30')#將age改成str,會自動轉換型別\n",
    "print(p1) # 會自動轉換型別,轉不過來會出現error"
   ]
  },
  {
   "cell_type": "code",
   "execution_count": 6,
   "metadata": {},
   "outputs": [
    {
     "name": "stdout",
     "output_type": "stream",
     "text": [
      "1 validation error for Person\n",
      "age\n",
      "  Input should be a valid integer, unable to parse string as an integer [type=int_parsing, input_value='abc', input_type=str]\n",
      "    For further information visit https://errors.pydantic.dev/2.7/v/int_parsing\n"
     ]
    }
   ],
   "source": [
    "try:\n",
    "    p2=Person(first_name='Jone',last_name='Smith',age='abc')#將age改成str,會自動轉換型別\n",
    "except Exception as error:\n",
    "    print(error) \n",
    "\n",
    "#利用except Exception as error:利用優雅的失敗去確認錯誤。"
   ]
  },
  {
   "cell_type": "markdown",
   "metadata": {},
   "source": [
    "##　可以將純文字轉成pydantic的實體\n",
    "### model_validate_json()"
   ]
  },
  {
   "cell_type": "code",
   "execution_count": 15,
   "metadata": {},
   "outputs": [
    {
     "name": "stdout",
     "output_type": "stream",
     "text": [
      "first_name='john' last_name='Smith' age=42\n"
     ]
    }
   ],
   "source": [
    "data_json=''' \n",
    "{\n",
    "\n",
    "    \"first_name\":\"john\",\n",
    "    \"last_name\":\"Smith\",\n",
    "    \"age\":\"42\",\n",
    "}\n",
    "'''\n",
    "p3=Person.model_validate_json(data_json)\n",
    "print(p3)"
   ]
  },
  {
   "cell_type": "markdown",
   "metadata": {},
   "source": [
    "## 可以選擇要取得的欄位"
   ]
  },
  {
   "cell_type": "code",
   "execution_count": 16,
   "metadata": {},
   "outputs": [
    {
     "name": "stdout",
     "output_type": "stream",
     "text": [
      "first_name='john' last_name='Smith' age=42\n"
     ]
    }
   ],
   "source": [
    "data_json=''' \n",
    "{\n",
    "\n",
    "    \"first_name\":\"john\",\n",
    "    \"last_name\":\"Smith\",\n",
    "    \"age\":\"42\",\n",
    "    \"height\":\"173\"\n",
    "}\n",
    "'''\n",
    "p4=Person.model_validate_json(data_json)\n",
    "print(p4)\n",
    "\n",
    "#沒有在class指定資料中的選項不會顯示。"
   ]
  },
  {
   "cell_type": "markdown",
   "metadata": {},
   "source": [
    "## 可以設定取得的資料,如果沒有這個欄位,設定欄位預設值"
   ]
  },
  {
   "cell_type": "code",
   "execution_count": 30,
   "metadata": {},
   "outputs": [
    {
     "ename": "ValidationError",
     "evalue": "1 validation error for Person\nage\n  Field required [type=missing, input_value={'first_name': 'john', 'last_name': 'Smith'}, input_type=dict]\n    For further information visit https://errors.pydantic.dev/2.7/v/missing",
     "output_type": "error",
     "traceback": [
      "\u001b[0;31m---------------------------------------------------------------------------\u001b[0m",
      "\u001b[0;31mValidationError\u001b[0m                           Traceback (most recent call last)",
      "Cell \u001b[0;32mIn[30], line 17\u001b[0m\n\u001b[1;32m      7\u001b[0m data_json\u001b[38;5;241m=\u001b[39m\u001b[38;5;124m'''\u001b[39m\u001b[38;5;124m \u001b[39m\n\u001b[1;32m      8\u001b[0m \u001b[38;5;124m{\u001b[39m\n\u001b[1;32m      9\u001b[0m \n\u001b[0;32m   (...)\u001b[0m\n\u001b[1;32m     13\u001b[0m \u001b[38;5;124m}\u001b[39m\n\u001b[1;32m     14\u001b[0m \u001b[38;5;124m'''\u001b[39m\n\u001b[1;32m     15\u001b[0m \u001b[38;5;66;03m#up \u001b[39;00m\n\u001b[1;32m     16\u001b[0m \u001b[38;5;66;03m#最後一行要資料不可以有逗號(,)\u001b[39;00m\n\u001b[0;32m---> 17\u001b[0m p5\u001b[38;5;241m=\u001b[39m\u001b[43mPerson\u001b[49m\u001b[38;5;241;43m.\u001b[39;49m\u001b[43mmodel_validate_json\u001b[49m\u001b[43m(\u001b[49m\u001b[43mdata_json\u001b[49m\u001b[43m)\u001b[49m\n\u001b[1;32m     18\u001b[0m \u001b[38;5;28mprint\u001b[39m(p5)\n",
      "File \u001b[0;32m~/.local/lib/python3.10/site-packages/pydantic/main.py:580\u001b[0m, in \u001b[0;36mBaseModel.model_validate_json\u001b[0;34m(cls, json_data, strict, context)\u001b[0m\n\u001b[1;32m    578\u001b[0m \u001b[38;5;66;03m# `__tracebackhide__` tells pytest and some other tools to omit this function from tracebacks\u001b[39;00m\n\u001b[1;32m    579\u001b[0m __tracebackhide__ \u001b[38;5;241m=\u001b[39m \u001b[38;5;28;01mTrue\u001b[39;00m\n\u001b[0;32m--> 580\u001b[0m \u001b[38;5;28;01mreturn\u001b[39;00m \u001b[38;5;28;43mcls\u001b[39;49m\u001b[38;5;241;43m.\u001b[39;49m\u001b[43m__pydantic_validator__\u001b[49m\u001b[38;5;241;43m.\u001b[39;49m\u001b[43mvalidate_json\u001b[49m\u001b[43m(\u001b[49m\u001b[43mjson_data\u001b[49m\u001b[43m,\u001b[49m\u001b[43m \u001b[49m\u001b[43mstrict\u001b[49m\u001b[38;5;241;43m=\u001b[39;49m\u001b[43mstrict\u001b[49m\u001b[43m,\u001b[49m\u001b[43m \u001b[49m\u001b[43mcontext\u001b[49m\u001b[38;5;241;43m=\u001b[39;49m\u001b[43mcontext\u001b[49m\u001b[43m)\u001b[49m\n",
      "\u001b[0;31mValidationError\u001b[0m: 1 validation error for Person\nage\n  Field required [type=missing, input_value={'first_name': 'john', 'last_name': 'Smith'}, input_type=dict]\n    For further information visit https://errors.pydantic.dev/2.7/v/missing"
     ]
    }
   ],
   "source": [
    "class Person(BaseModel):\n",
    "    #field一定要有type hint\n",
    "    first_name:str #一定要有資料\n",
    "    last_name:str #一定要有資料\n",
    "    age:int   #一定要有資料\n",
    "\n",
    "data_json=''' \n",
    "{\n",
    "\n",
    "    \"first_name\":\"john\",\n",
    "    \"last_name\":\"Smith\"\n",
    "\n",
    "}\n",
    "'''\n",
    "#最後一行要資料不可以有逗號(,)\n",
    "p5=Person.model_validate_json(data_json)\n",
    "print(p5)\n",
    "#因為資料內的資料沒有age造成讀取錯誤，所以我們要給一個預設資料。"
   ]
  },
  {
   "cell_type": "code",
   "execution_count": 28,
   "metadata": {},
   "outputs": [
    {
     "name": "stdout",
     "output_type": "stream",
     "text": [
      "first_name='john' last_name='Smith' age=0\n"
     ]
    }
   ],
   "source": [
    "class Person(BaseModel):\n",
    "    #field一定要有type hint\n",
    "    first_name:str #一定要有資料\n",
    "    last_name:str #一定要有資料\n",
    "    age:int = 0 #有預設的值\n",
    "\n",
    "data_json = '''\n",
    "{\n",
    "    \"first_name\":\"john\",\n",
    "    \"last_name\":\"Smith\"    \n",
    "}\n",
    "'''\n",
    "#假設json資料內沒有我們要的資料，就會顯示預設值。\n",
    "p6 = Person.model_validate_json(data_json)\n",
    "print(p6)"
   ]
  }
 ],
 "metadata": {
  "kernelspec": {
   "display_name": "Python 3",
   "language": "python",
   "name": "python3"
  },
  "language_info": {
   "codemirror_mode": {
    "name": "ipython",
    "version": 3
   },
   "file_extension": ".py",
   "mimetype": "text/x-python",
   "name": "python",
   "nbconvert_exporter": "python",
   "pygments_lexer": "ipython3",
   "version": "3.10.14"
  }
 },
 "nbformat": 4,
 "nbformat_minor": 2
}
