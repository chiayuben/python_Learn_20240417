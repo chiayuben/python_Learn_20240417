{
 "cells": [
  {
   "cell_type": "code",
   "execution_count": 2,
   "metadata": {},
   "outputs": [
    {
     "name": "stdout",
     "output_type": "stream",
     "text": [
      "<class 'int'>\n"
     ]
    }
   ],
   "source": [
    "n = 5\n",
    "print(type(n))"
   ]
  },
  {
   "cell_type": "code",
   "execution_count": 1,
   "metadata": {},
   "outputs": [
    {
     "data": {
      "text/plain": [
       "__main__.Person"
      ]
     },
     "execution_count": 1,
     "metadata": {},
     "output_type": "execute_result"
    }
   ],
   "source": [
    "#自訂的類別\n",
    "class Person():\n",
    "    pass\n",
    "\n",
    "p1=Person()\n",
    "type(p1)"
   ]
  },
  {
   "cell_type": "code",
   "execution_count": 3,
   "metadata": {},
   "outputs": [
    {
     "name": "stdout",
     "output_type": "stream",
     "text": [
      "p1的name:林家宇\n",
      "p2的name:林家宇\n"
     ]
    }
   ],
   "source": [
    "#自訂的attribute,必須有自訂的init\n",
    "\n",
    "class Person():\n",
    "    def __init__(self):\n",
    "        self.name='林家宇'\n",
    "\n",
    "p1=Person()\n",
    "print(f'p1的name:{p1.name}')\n",
    "p2 = Person()\n",
    "print(f'p2的name:{p2.name}')\n"
   ]
  },
  {
   "cell_type": "code",
   "execution_count": 4,
   "metadata": {},
   "outputs": [
    {
     "name": "stdout",
     "output_type": "stream",
     "text": [
      "p1的name:林家宇\n",
      "p2的name:Ben lin\n"
     ]
    }
   ],
   "source": [
    "#自訂的attribute,必需有自訂的init\n",
    "#自訂的init\n",
    "#建立attribute name\n",
    "\n",
    "class Person():\n",
    "    def __init__(self,n:str):\n",
    "        super().__init__()\n",
    "        self.name = n\n",
    "\n",
    "p1 = Person(\"林家宇\")\n",
    "print(f'p1的name:{p1.name}')\n",
    "\n",
    "p2 = Person(n=\"Ben lin\")\n",
    "print(f'p2的name:{p2.name}')"
   ]
  },
  {
   "cell_type": "code",
   "execution_count": 6,
   "metadata": {},
   "outputs": [
    {
     "name": "stdout",
     "output_type": "stream",
     "text": [
      "p1的name:林家宇\n",
      "我是Person的實體,我的名字林家宇\n",
      "p2的name:Ben lin\n",
      "我是Person的實體,我的名字Ben lin\n"
     ]
    }
   ],
   "source": [
    "#自訂的attribute,必需有自訂的init\n",
    "#自訂的init\n",
    "#建立attribute name\n",
    "#自訂的__repre__\n",
    "\n",
    "class Person():\n",
    "    def __init__(self,n:str):\n",
    "        super().__init__()\n",
    "        self.name = n\n",
    "\n",
    "    def __repr__(self):\n",
    "        return f\"我是Person的實體,我的名字{self.name}\"\n",
    "\n",
    "p1 = Person(\"林家宇\")\n",
    "print(f'p1的name:{p1.name}')\n",
    "print(p1)\n",
    "\n",
    "p2 = Person(n=\"Ben lin\")\n",
    "print(f'p2的name:{p2.name}')\n",
    "print(p2)"
   ]
  },
  {
   "cell_type": "code",
   "execution_count": 13,
   "metadata": {},
   "outputs": [],
   "source": [
    "#繼承\n",
    "class Person():\n",
    "    def __init__(self,n:str):\n",
    "        super().__init__()\n",
    "        self.name = n\n",
    "\n",
    "    def __repr__(self):\n",
    "        return f\"我是Person的實體,我的名字{self.name}\"\n",
    "    \n",
    "class Student(Person):\n",
    "    def __init__(self,n:str,s:int):\n",
    "        super().__init__(n)\n",
    "        self.scores = s\n",
    "    \n",
    "    def __repr__(self):\n",
    "        before = super().__repr__()\n",
    "        return f\"{before},總分為{self.scores}\""
   ]
  },
  {
   "cell_type": "code",
   "execution_count": 14,
   "metadata": {},
   "outputs": [
    {
     "name": "stdout",
     "output_type": "stream",
     "text": [
      "林家宇 270\n",
      "我是Person的實體,我的名字林家宇,總分為270\n",
      "Benlin 290\n",
      "我是Person的實體,我的名字Benlin,總分為290\n"
     ]
    }
   ],
   "source": [
    "s1 = Student(\"林家宇\",270)\n",
    "print(s1.name, s1.scores)\n",
    "print(s1)\n",
    "\n",
    "s2 = Student(\"Benlin\",290)\n",
    "print(s2.name, s2.scores)\n",
    "print(s2)"
   ]
  },
  {
   "cell_type": "code",
   "execution_count": 8,
   "metadata": {},
   "outputs": [
    {
     "name": "stdout",
     "output_type": "stream",
     "text": [
      "旺財正在叫！\n",
      "小黑,的年齡是2 歲。\n"
     ]
    }
   ],
   "source": [
    "class Dog:\n",
    "    def __init__(self, name, age):\n",
    "        self.name = name\n",
    "        self.age = age\n",
    "\n",
    "    def bark(self):\n",
    "        print(self.name + \"正在叫！\")\n",
    "\n",
    "    def describe(self):\n",
    "        print(f'{self.name},的年齡是{self.age} 歲。')\n",
    "\n",
    "# 創建 Dog 類別的物件\n",
    "dog1 = Dog(\"旺財\", 3)\n",
    "dog2 = Dog(\"小黑\", 2)\n",
    "\n",
    "# 使用物件的方法\n",
    "dog1.bark() # 旺財正在叫！\n",
    "dog2.describe() # 小黑 的年齡是 2 歲。"
   ]
  },
  {
   "cell_type": "code",
   "execution_count": null,
   "metadata": {},
   "outputs": [],
   "source": [
    "class Person():\n",
    "    def __init__(self,name:str,scores):\n",
    "        super().__init__()\n",
    "        self.name = name\n",
    "        self.scores = scores\n",
    "\n",
    "    def __repr__(self):\n",
    "        return f\"我是Person的實體,我的名字{self.name},我的分數是{self.scores}\"\n",
    "\n",
    "p1 = Person('林家宇',270)\n",
    "print(f'p1的name:{p1.name}')\n",
    "print(p1)\n",
    "\n",
    "p2 = Person(name='Ben lin',scores=270)\n",
    "print(f'p2的name:{p2.name}')\n",
    "print(p2)"
   ]
  }
 ],
 "metadata": {
  "kernelspec": {
   "display_name": "Python 3",
   "language": "python",
   "name": "python3"
  },
  "language_info": {
   "codemirror_mode": {
    "name": "ipython",
    "version": 3
   },
   "file_extension": ".py",
   "mimetype": "text/x-python",
   "name": "python",
   "nbconvert_exporter": "python",
   "pygments_lexer": "ipython3",
   "version": "3.10.14"
  }
 },
 "nbformat": 4,
 "nbformat_minor": 2
}
