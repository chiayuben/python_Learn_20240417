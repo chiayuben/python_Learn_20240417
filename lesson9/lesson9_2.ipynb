{
 "cells": [
  {
   "cell_type": "code",
   "execution_count": 9,
   "metadata": {},
   "outputs": [
    {
     "name": "stdout",
     "output_type": "stream",
     "text": [
      "您的姓名是:林家宇\n",
      "國文:99\n",
      "英文:99\n",
      "數學:98\n",
      "\n"
     ]
    }
   ],
   "source": [
    "class Student():\n",
    "    def __init__(self,n:str,c:int,e:int,m:int):\n",
    "        super().__init__()\n",
    "        self.name = n   #attribute\n",
    "        self.chinese = c #attribute\n",
    "        self.english = e #attribute\n",
    "        self.math = m #attribute\n",
    "\n",
    "    def __repr__(self):\n",
    "        message = f\"您的姓名是:{self.name}\\n\"\n",
    "        message += f\"國文:{self.chinese}\\n\"\n",
    "        message += f\"英文:{self.english}\\n\"\n",
    "        message += f\"數學:{self.math}\\n\"\n",
    "        return message\n",
    "\n",
    "s1 = Student(n=\"林家宇\",c=99,e=99,m=98)\n",
    "print(s1)"
   ]
  },
  {
   "cell_type": "code",
   "execution_count": 10,
   "metadata": {},
   "outputs": [
    {
     "name": "stdout",
     "output_type": "stream",
     "text": [
      "您的姓名是:林家宇\n",
      "國文:99\n",
      "英文:99\n",
      "數學:98\n",
      "\n"
     ]
    }
   ],
   "source": [
    "class Student():\n",
    "    def __init__(self,n:str,c:int,e:int,m:int):\n",
    "        super().__init__()\n",
    "        self.name = n   #attribute\n",
    "        self.chinese = c #attribute\n",
    "        self.english = e #attribute\n",
    "        self.math = m #attribute\n",
    "\n",
    "    def __repr__(self):\n",
    "        message = f\"您的姓名是:{self.name}\\n\"\n",
    "        message += f\"國文:{self.chinese}\\n\"\n",
    "        message += f\"英文:{self.english}\\n\"\n",
    "        message += f\"數學:{self.math}\\n\"\n",
    "        return message\n",
    "    #建立property的語法\n",
    "    @property\n",
    "    def sum(self):\n",
    "        return self.chinese + self.english + self.math\n",
    "\n",
    "s1 = Student(n=\"林家宇\",c=99,e=99,m=98)\n",
    "print(s1)"
   ]
  },
  {
   "cell_type": "code",
   "execution_count": 11,
   "metadata": {},
   "outputs": [
    {
     "name": "stdout",
     "output_type": "stream",
     "text": [
      "您的姓名是:林家宇\n",
      "國文:99\n",
      "英文:99\n",
      "數學:98\n",
      "\n",
      "總分為:296\n",
      "=================================\n",
      "您的姓名是:Benlin\n",
      "國文:98\n",
      "英文:88\n",
      "數學:89\n",
      "\n",
      "總分為:275\n"
     ]
    }
   ],
   "source": [
    "s1 = Student(n=\"林家宇\",c=99,e=99,m=98)\n",
    "print(s1)\n",
    "print(f'總分為:{s1.sum}')\n",
    "print('=================================')\n",
    "s2 = Student(n=\"Benlin\",c=98,e=88,m=89)\n",
    "print(s2)\n",
    "print(f\"總分為:{s2.sum}\")"
   ]
  },
  {
   "cell_type": "code",
   "execution_count": 7,
   "metadata": {},
   "outputs": [
    {
     "name": "stdout",
     "output_type": "stream",
     "text": [
      "p1的name:林家宇\n",
      "我是Person的實體,我的名字林家宇,我的分數是270\n",
      "p2的name:Ben lin\n",
      "我是Person的實體,我的名字Ben lin,我的分數是270\n"
     ]
    }
   ],
   "source": []
  }
 ],
 "metadata": {
  "kernelspec": {
   "display_name": "Python 3",
   "language": "python",
   "name": "python3"
  },
  "language_info": {
   "codemirror_mode": {
    "name": "ipython",
    "version": 3
   },
   "file_extension": ".py",
   "mimetype": "text/x-python",
   "name": "python",
   "nbconvert_exporter": "python",
   "pygments_lexer": "ipython3",
   "version": "3.10.14"
  }
 },
 "nbformat": 4,
 "nbformat_minor": 2
}
